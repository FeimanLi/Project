{
 "cells": [
  {
   "cell_type": "code",
   "execution_count": 1,
   "metadata": {
    "colab": {},
    "colab_type": "code",
    "id": "zdtdYIs-noch"
   },
   "outputs": [],
   "source": [
    "import numpy as np\n",
    "import pandas as pd"
   ]
  },
  {
   "cell_type": "code",
   "execution_count": 2,
   "metadata": {
    "colab": {
     "base_uri": "https://localhost:8080/",
     "height": 397
    },
    "colab_type": "code",
    "id": "oCl-uI40nocx",
    "outputId": "509453f3-33f2-416d-a4a2-992d5e5a57d4"
   },
   "outputs": [],
   "source": [
    "bureau= pd.read_csv('bureau.csv')\n",
    "bureau_balance= pd.read_csv('bureau_balance.csv')"
   ]
  },
  {
   "cell_type": "code",
   "execution_count": 3,
   "metadata": {
    "colab": {},
    "colab_type": "code",
    "id": "kzE2Vpymnoc5"
   },
   "outputs": [
    {
     "data": {
      "text/html": [
       "<div>\n",
       "<style scoped>\n",
       "    .dataframe tbody tr th:only-of-type {\n",
       "        vertical-align: middle;\n",
       "    }\n",
       "\n",
       "    .dataframe tbody tr th {\n",
       "        vertical-align: top;\n",
       "    }\n",
       "\n",
       "    .dataframe thead th {\n",
       "        text-align: right;\n",
       "    }\n",
       "</style>\n",
       "<table border=\"1\" class=\"dataframe\">\n",
       "  <thead>\n",
       "    <tr style=\"text-align: right;\">\n",
       "      <th></th>\n",
       "      <th>SK_ID_CURR</th>\n",
       "      <th>SK_ID_BUREAU</th>\n",
       "      <th>CREDIT_ACTIVE</th>\n",
       "      <th>CREDIT_CURRENCY</th>\n",
       "      <th>DAYS_CREDIT</th>\n",
       "      <th>CREDIT_DAY_OVERDUE</th>\n",
       "      <th>DAYS_CREDIT_ENDDATE</th>\n",
       "      <th>DAYS_ENDDATE_FACT</th>\n",
       "      <th>AMT_CREDIT_MAX_OVERDUE</th>\n",
       "      <th>CNT_CREDIT_PROLONG</th>\n",
       "      <th>AMT_CREDIT_SUM</th>\n",
       "      <th>AMT_CREDIT_SUM_DEBT</th>\n",
       "      <th>AMT_CREDIT_SUM_LIMIT</th>\n",
       "      <th>AMT_CREDIT_SUM_OVERDUE</th>\n",
       "      <th>CREDIT_TYPE</th>\n",
       "      <th>DAYS_CREDIT_UPDATE</th>\n",
       "      <th>AMT_ANNUITY</th>\n",
       "    </tr>\n",
       "  </thead>\n",
       "  <tbody>\n",
       "    <tr>\n",
       "      <td>0</td>\n",
       "      <td>215354</td>\n",
       "      <td>5714462</td>\n",
       "      <td>Closed</td>\n",
       "      <td>currency 1</td>\n",
       "      <td>-497</td>\n",
       "      <td>0</td>\n",
       "      <td>-153.0</td>\n",
       "      <td>-153.0</td>\n",
       "      <td>NaN</td>\n",
       "      <td>0</td>\n",
       "      <td>91323.0</td>\n",
       "      <td>0.0</td>\n",
       "      <td>NaN</td>\n",
       "      <td>0.0</td>\n",
       "      <td>Consumer credit</td>\n",
       "      <td>-131</td>\n",
       "      <td>NaN</td>\n",
       "    </tr>\n",
       "    <tr>\n",
       "      <td>1</td>\n",
       "      <td>215354</td>\n",
       "      <td>5714463</td>\n",
       "      <td>Active</td>\n",
       "      <td>currency 1</td>\n",
       "      <td>-208</td>\n",
       "      <td>0</td>\n",
       "      <td>1075.0</td>\n",
       "      <td>NaN</td>\n",
       "      <td>NaN</td>\n",
       "      <td>0</td>\n",
       "      <td>225000.0</td>\n",
       "      <td>171342.0</td>\n",
       "      <td>NaN</td>\n",
       "      <td>0.0</td>\n",
       "      <td>Credit card</td>\n",
       "      <td>-20</td>\n",
       "      <td>NaN</td>\n",
       "    </tr>\n",
       "    <tr>\n",
       "      <td>2</td>\n",
       "      <td>215354</td>\n",
       "      <td>5714464</td>\n",
       "      <td>Active</td>\n",
       "      <td>currency 1</td>\n",
       "      <td>-203</td>\n",
       "      <td>0</td>\n",
       "      <td>528.0</td>\n",
       "      <td>NaN</td>\n",
       "      <td>NaN</td>\n",
       "      <td>0</td>\n",
       "      <td>464323.5</td>\n",
       "      <td>NaN</td>\n",
       "      <td>NaN</td>\n",
       "      <td>0.0</td>\n",
       "      <td>Consumer credit</td>\n",
       "      <td>-16</td>\n",
       "      <td>NaN</td>\n",
       "    </tr>\n",
       "    <tr>\n",
       "      <td>3</td>\n",
       "      <td>215354</td>\n",
       "      <td>5714465</td>\n",
       "      <td>Active</td>\n",
       "      <td>currency 1</td>\n",
       "      <td>-203</td>\n",
       "      <td>0</td>\n",
       "      <td>NaN</td>\n",
       "      <td>NaN</td>\n",
       "      <td>NaN</td>\n",
       "      <td>0</td>\n",
       "      <td>90000.0</td>\n",
       "      <td>NaN</td>\n",
       "      <td>NaN</td>\n",
       "      <td>0.0</td>\n",
       "      <td>Credit card</td>\n",
       "      <td>-16</td>\n",
       "      <td>NaN</td>\n",
       "    </tr>\n",
       "    <tr>\n",
       "      <td>4</td>\n",
       "      <td>215354</td>\n",
       "      <td>5714466</td>\n",
       "      <td>Active</td>\n",
       "      <td>currency 1</td>\n",
       "      <td>-629</td>\n",
       "      <td>0</td>\n",
       "      <td>1197.0</td>\n",
       "      <td>NaN</td>\n",
       "      <td>77674.5</td>\n",
       "      <td>0</td>\n",
       "      <td>2700000.0</td>\n",
       "      <td>NaN</td>\n",
       "      <td>NaN</td>\n",
       "      <td>0.0</td>\n",
       "      <td>Consumer credit</td>\n",
       "      <td>-21</td>\n",
       "      <td>NaN</td>\n",
       "    </tr>\n",
       "  </tbody>\n",
       "</table>\n",
       "</div>"
      ],
      "text/plain": [
       "   SK_ID_CURR  SK_ID_BUREAU CREDIT_ACTIVE CREDIT_CURRENCY  DAYS_CREDIT  \\\n",
       "0      215354       5714462        Closed      currency 1         -497   \n",
       "1      215354       5714463        Active      currency 1         -208   \n",
       "2      215354       5714464        Active      currency 1         -203   \n",
       "3      215354       5714465        Active      currency 1         -203   \n",
       "4      215354       5714466        Active      currency 1         -629   \n",
       "\n",
       "   CREDIT_DAY_OVERDUE  DAYS_CREDIT_ENDDATE  DAYS_ENDDATE_FACT  \\\n",
       "0                   0               -153.0             -153.0   \n",
       "1                   0               1075.0                NaN   \n",
       "2                   0                528.0                NaN   \n",
       "3                   0                  NaN                NaN   \n",
       "4                   0               1197.0                NaN   \n",
       "\n",
       "   AMT_CREDIT_MAX_OVERDUE  CNT_CREDIT_PROLONG  AMT_CREDIT_SUM  \\\n",
       "0                     NaN                   0         91323.0   \n",
       "1                     NaN                   0        225000.0   \n",
       "2                     NaN                   0        464323.5   \n",
       "3                     NaN                   0         90000.0   \n",
       "4                 77674.5                   0       2700000.0   \n",
       "\n",
       "   AMT_CREDIT_SUM_DEBT  AMT_CREDIT_SUM_LIMIT  AMT_CREDIT_SUM_OVERDUE  \\\n",
       "0                  0.0                   NaN                     0.0   \n",
       "1             171342.0                   NaN                     0.0   \n",
       "2                  NaN                   NaN                     0.0   \n",
       "3                  NaN                   NaN                     0.0   \n",
       "4                  NaN                   NaN                     0.0   \n",
       "\n",
       "       CREDIT_TYPE  DAYS_CREDIT_UPDATE  AMT_ANNUITY  \n",
       "0  Consumer credit                -131          NaN  \n",
       "1      Credit card                 -20          NaN  \n",
       "2  Consumer credit                 -16          NaN  \n",
       "3      Credit card                 -16          NaN  \n",
       "4  Consumer credit                 -21          NaN  "
      ]
     },
     "execution_count": 3,
     "metadata": {},
     "output_type": "execute_result"
    }
   ],
   "source": [
    "bureau.head()"
   ]
  },
  {
   "cell_type": "code",
   "execution_count": 4,
   "metadata": {
    "colab": {},
    "colab_type": "code",
    "id": "xTiavL5FnodF"
   },
   "outputs": [],
   "source": [
    "def missing_values_table(df):\n",
    "        # Total missing values\n",
    "        mis_val = df.isnull().sum()\n",
    "        \n",
    "        # Percentage of missing values\n",
    "        mis_val_percent = 100 * df.isnull().sum() / len(df)\n",
    "        \n",
    "        # Make a table with the results\n",
    "        mis_val_table = pd.concat([mis_val, mis_val_percent], axis=1)\n",
    "        \n",
    "        # Rename the columns\n",
    "        mis_val_table_ren_columns = mis_val_table.rename(\n",
    "        columns = {0 : 'Missing Values', 1 : '% of Total Values'})\n",
    "        \n",
    "        # Sort the table by percentage of missing descending\n",
    "        mis_val_table_ren_columns = mis_val_table_ren_columns[\n",
    "            mis_val_table_ren_columns.iloc[:,1] != 0].sort_values(\n",
    "        '% of Total Values', ascending=False).round(1)\n",
    "        \n",
    "        # Print some summary information\n",
    "        print (\"Your selected dataframe has \" + str(df.shape[1]) + \" columns.\\n\"      \n",
    "            \"There are \" + str(mis_val_table_ren_columns.shape[0]) +\n",
    "              \" columns that have missing values.\")\n",
    "        \n",
    "        # Return the dataframe with missing information\n",
    "        return mis_val_table_ren_columns"
   ]
  },
  {
   "cell_type": "code",
   "execution_count": 5,
   "metadata": {
    "colab": {},
    "colab_type": "code",
    "id": "7c2Jj7k4nodM"
   },
   "outputs": [
    {
     "name": "stdout",
     "output_type": "stream",
     "text": [
      "Your selected dataframe has 17 columns.\n",
      "There are 7 columns that have missing values.\n"
     ]
    },
    {
     "data": {
      "text/html": [
       "<div>\n",
       "<style scoped>\n",
       "    .dataframe tbody tr th:only-of-type {\n",
       "        vertical-align: middle;\n",
       "    }\n",
       "\n",
       "    .dataframe tbody tr th {\n",
       "        vertical-align: top;\n",
       "    }\n",
       "\n",
       "    .dataframe thead th {\n",
       "        text-align: right;\n",
       "    }\n",
       "</style>\n",
       "<table border=\"1\" class=\"dataframe\">\n",
       "  <thead>\n",
       "    <tr style=\"text-align: right;\">\n",
       "      <th></th>\n",
       "      <th>Missing Values</th>\n",
       "      <th>% of Total Values</th>\n",
       "    </tr>\n",
       "  </thead>\n",
       "  <tbody>\n",
       "    <tr>\n",
       "      <td>AMT_ANNUITY</td>\n",
       "      <td>1226791</td>\n",
       "      <td>71.5</td>\n",
       "    </tr>\n",
       "    <tr>\n",
       "      <td>AMT_CREDIT_MAX_OVERDUE</td>\n",
       "      <td>1124488</td>\n",
       "      <td>65.5</td>\n",
       "    </tr>\n",
       "    <tr>\n",
       "      <td>DAYS_ENDDATE_FACT</td>\n",
       "      <td>633653</td>\n",
       "      <td>36.9</td>\n",
       "    </tr>\n",
       "    <tr>\n",
       "      <td>AMT_CREDIT_SUM_LIMIT</td>\n",
       "      <td>591780</td>\n",
       "      <td>34.5</td>\n",
       "    </tr>\n",
       "    <tr>\n",
       "      <td>AMT_CREDIT_SUM_DEBT</td>\n",
       "      <td>257669</td>\n",
       "      <td>15.0</td>\n",
       "    </tr>\n",
       "    <tr>\n",
       "      <td>DAYS_CREDIT_ENDDATE</td>\n",
       "      <td>105553</td>\n",
       "      <td>6.1</td>\n",
       "    </tr>\n",
       "    <tr>\n",
       "      <td>AMT_CREDIT_SUM</td>\n",
       "      <td>13</td>\n",
       "      <td>0.0</td>\n",
       "    </tr>\n",
       "  </tbody>\n",
       "</table>\n",
       "</div>"
      ],
      "text/plain": [
       "                        Missing Values  % of Total Values\n",
       "AMT_ANNUITY                    1226791               71.5\n",
       "AMT_CREDIT_MAX_OVERDUE         1124488               65.5\n",
       "DAYS_ENDDATE_FACT               633653               36.9\n",
       "AMT_CREDIT_SUM_LIMIT            591780               34.5\n",
       "AMT_CREDIT_SUM_DEBT             257669               15.0\n",
       "DAYS_CREDIT_ENDDATE             105553                6.1\n",
       "AMT_CREDIT_SUM                      13                0.0"
      ]
     },
     "execution_count": 5,
     "metadata": {},
     "output_type": "execute_result"
    }
   ],
   "source": [
    "missing_values_table(bureau)"
   ]
  },
  {
   "cell_type": "code",
   "execution_count": 6,
   "metadata": {
    "colab": {},
    "colab_type": "code",
    "id": "fq3c9XifnodV"
   },
   "outputs": [
    {
     "data": {
      "text/plain": [
       "1716428"
      ]
     },
     "execution_count": 6,
     "metadata": {},
     "output_type": "execute_result"
    }
   ],
   "source": [
    "len(bureau)"
   ]
  },
  {
   "cell_type": "code",
   "execution_count": 7,
   "metadata": {
    "colab": {},
    "colab_type": "code",
    "id": "evgNHbE5nodg"
   },
   "outputs": [
    {
     "data": {
      "text/plain": [
       "SK_ID_BUREAU      0.0\n",
       "MONTHS_BALANCE    0.0\n",
       "STATUS            0.0\n",
       "dtype: float64"
      ]
     },
     "execution_count": 7,
     "metadata": {},
     "output_type": "execute_result"
    }
   ],
   "source": [
    "bureau_balance.isna().sum()/len(bureau_balance)"
   ]
  },
  {
   "cell_type": "code",
   "execution_count": 8,
   "metadata": {
    "colab": {},
    "colab_type": "code",
    "id": "J3ncXKwAnodo"
   },
   "outputs": [],
   "source": [
    "new_bureau=bureau.drop(columns=[\"DAYS_CREDIT_ENDDATE\", \"DAYS_ENDDATE_FACT\", \"AMT_CREDIT_MAX_OVERDUE\" ,\"AMT_CREDIT_SUM_DEBT\",\"AMT_CREDIT_SUM_LIMIT\",\"AMT_ANNUITY\"])"
   ]
  },
  {
   "cell_type": "code",
   "execution_count": 9,
   "metadata": {
    "colab": {},
    "colab_type": "code",
    "id": "tvAy2068nodu"
   },
   "outputs": [
    {
     "data": {
      "text/html": [
       "<div>\n",
       "<style scoped>\n",
       "    .dataframe tbody tr th:only-of-type {\n",
       "        vertical-align: middle;\n",
       "    }\n",
       "\n",
       "    .dataframe tbody tr th {\n",
       "        vertical-align: top;\n",
       "    }\n",
       "\n",
       "    .dataframe thead th {\n",
       "        text-align: right;\n",
       "    }\n",
       "</style>\n",
       "<table border=\"1\" class=\"dataframe\">\n",
       "  <thead>\n",
       "    <tr style=\"text-align: right;\">\n",
       "      <th></th>\n",
       "      <th>SK_ID_CURR</th>\n",
       "      <th>SK_ID_BUREAU</th>\n",
       "      <th>CREDIT_ACTIVE</th>\n",
       "      <th>CREDIT_CURRENCY</th>\n",
       "      <th>DAYS_CREDIT</th>\n",
       "      <th>CREDIT_DAY_OVERDUE</th>\n",
       "      <th>CNT_CREDIT_PROLONG</th>\n",
       "      <th>AMT_CREDIT_SUM</th>\n",
       "      <th>AMT_CREDIT_SUM_OVERDUE</th>\n",
       "      <th>CREDIT_TYPE</th>\n",
       "      <th>DAYS_CREDIT_UPDATE</th>\n",
       "    </tr>\n",
       "  </thead>\n",
       "  <tbody>\n",
       "    <tr>\n",
       "      <td>0</td>\n",
       "      <td>215354</td>\n",
       "      <td>5714462</td>\n",
       "      <td>Closed</td>\n",
       "      <td>currency 1</td>\n",
       "      <td>-497</td>\n",
       "      <td>0</td>\n",
       "      <td>0</td>\n",
       "      <td>91323.0</td>\n",
       "      <td>0.0</td>\n",
       "      <td>Consumer credit</td>\n",
       "      <td>-131</td>\n",
       "    </tr>\n",
       "    <tr>\n",
       "      <td>1</td>\n",
       "      <td>215354</td>\n",
       "      <td>5714463</td>\n",
       "      <td>Active</td>\n",
       "      <td>currency 1</td>\n",
       "      <td>-208</td>\n",
       "      <td>0</td>\n",
       "      <td>0</td>\n",
       "      <td>225000.0</td>\n",
       "      <td>0.0</td>\n",
       "      <td>Credit card</td>\n",
       "      <td>-20</td>\n",
       "    </tr>\n",
       "    <tr>\n",
       "      <td>2</td>\n",
       "      <td>215354</td>\n",
       "      <td>5714464</td>\n",
       "      <td>Active</td>\n",
       "      <td>currency 1</td>\n",
       "      <td>-203</td>\n",
       "      <td>0</td>\n",
       "      <td>0</td>\n",
       "      <td>464323.5</td>\n",
       "      <td>0.0</td>\n",
       "      <td>Consumer credit</td>\n",
       "      <td>-16</td>\n",
       "    </tr>\n",
       "    <tr>\n",
       "      <td>3</td>\n",
       "      <td>215354</td>\n",
       "      <td>5714465</td>\n",
       "      <td>Active</td>\n",
       "      <td>currency 1</td>\n",
       "      <td>-203</td>\n",
       "      <td>0</td>\n",
       "      <td>0</td>\n",
       "      <td>90000.0</td>\n",
       "      <td>0.0</td>\n",
       "      <td>Credit card</td>\n",
       "      <td>-16</td>\n",
       "    </tr>\n",
       "    <tr>\n",
       "      <td>4</td>\n",
       "      <td>215354</td>\n",
       "      <td>5714466</td>\n",
       "      <td>Active</td>\n",
       "      <td>currency 1</td>\n",
       "      <td>-629</td>\n",
       "      <td>0</td>\n",
       "      <td>0</td>\n",
       "      <td>2700000.0</td>\n",
       "      <td>0.0</td>\n",
       "      <td>Consumer credit</td>\n",
       "      <td>-21</td>\n",
       "    </tr>\n",
       "  </tbody>\n",
       "</table>\n",
       "</div>"
      ],
      "text/plain": [
       "   SK_ID_CURR  SK_ID_BUREAU CREDIT_ACTIVE CREDIT_CURRENCY  DAYS_CREDIT  \\\n",
       "0      215354       5714462        Closed      currency 1         -497   \n",
       "1      215354       5714463        Active      currency 1         -208   \n",
       "2      215354       5714464        Active      currency 1         -203   \n",
       "3      215354       5714465        Active      currency 1         -203   \n",
       "4      215354       5714466        Active      currency 1         -629   \n",
       "\n",
       "   CREDIT_DAY_OVERDUE  CNT_CREDIT_PROLONG  AMT_CREDIT_SUM  \\\n",
       "0                   0                   0         91323.0   \n",
       "1                   0                   0        225000.0   \n",
       "2                   0                   0        464323.5   \n",
       "3                   0                   0         90000.0   \n",
       "4                   0                   0       2700000.0   \n",
       "\n",
       "   AMT_CREDIT_SUM_OVERDUE      CREDIT_TYPE  DAYS_CREDIT_UPDATE  \n",
       "0                     0.0  Consumer credit                -131  \n",
       "1                     0.0      Credit card                 -20  \n",
       "2                     0.0  Consumer credit                 -16  \n",
       "3                     0.0      Credit card                 -16  \n",
       "4                     0.0  Consumer credit                 -21  "
      ]
     },
     "execution_count": 9,
     "metadata": {},
     "output_type": "execute_result"
    }
   ],
   "source": [
    "new_bureau.head()"
   ]
  },
  {
   "cell_type": "code",
   "execution_count": 10,
   "metadata": {
    "colab": {},
    "colab_type": "code",
    "id": "Ahh9ReXTnod1"
   },
   "outputs": [],
   "source": [
    "merg_bureau=new_bureau.join(bureau_balance, how=\"left\", lsuffix='SK_ID_BUREAU', rsuffix='SK_ID_BUREAU')"
   ]
  },
  {
   "cell_type": "code",
   "execution_count": 11,
   "metadata": {
    "colab": {},
    "colab_type": "code",
    "id": "sxQ_tcj5nod-"
   },
   "outputs": [
    {
     "name": "stdout",
     "output_type": "stream",
     "text": [
      "Your selected dataframe has 11 columns.\n",
      "There are 1 columns that have missing values.\n"
     ]
    },
    {
     "data": {
      "text/html": [
       "<div>\n",
       "<style scoped>\n",
       "    .dataframe tbody tr th:only-of-type {\n",
       "        vertical-align: middle;\n",
       "    }\n",
       "\n",
       "    .dataframe tbody tr th {\n",
       "        vertical-align: top;\n",
       "    }\n",
       "\n",
       "    .dataframe thead th {\n",
       "        text-align: right;\n",
       "    }\n",
       "</style>\n",
       "<table border=\"1\" class=\"dataframe\">\n",
       "  <thead>\n",
       "    <tr style=\"text-align: right;\">\n",
       "      <th></th>\n",
       "      <th>Missing Values</th>\n",
       "      <th>% of Total Values</th>\n",
       "    </tr>\n",
       "  </thead>\n",
       "  <tbody>\n",
       "    <tr>\n",
       "      <td>AMT_CREDIT_SUM</td>\n",
       "      <td>13</td>\n",
       "      <td>0.0</td>\n",
       "    </tr>\n",
       "  </tbody>\n",
       "</table>\n",
       "</div>"
      ],
      "text/plain": [
       "                Missing Values  % of Total Values\n",
       "AMT_CREDIT_SUM              13                0.0"
      ]
     },
     "execution_count": 11,
     "metadata": {},
     "output_type": "execute_result"
    }
   ],
   "source": [
    "missing_values_table(new_bureau)"
   ]
  },
  {
   "cell_type": "code",
   "execution_count": 12,
   "metadata": {
    "colab": {},
    "colab_type": "code",
    "id": "C722uyNvnoeF"
   },
   "outputs": [
    {
     "data": {
      "text/plain": [
       "1716428"
      ]
     },
     "execution_count": 12,
     "metadata": {},
     "output_type": "execute_result"
    }
   ],
   "source": [
    "len(new_bureau)"
   ]
  },
  {
   "cell_type": "code",
   "execution_count": 13,
   "metadata": {
    "colab": {},
    "colab_type": "code",
    "id": "5kdjoE2ZnoeN"
   },
   "outputs": [],
   "source": [
    "#merg_bureau.head()"
   ]
  },
  {
   "cell_type": "code",
   "execution_count": 14,
   "metadata": {
    "colab": {},
    "colab_type": "code",
    "id": "NF-V9xaInoeV"
   },
   "outputs": [],
   "source": [
    "#merg_bureau.to_csv(\"merg_bureau.csv\", index=False)"
   ]
  },
  {
   "cell_type": "code",
   "execution_count": 16,
   "metadata": {
    "colab": {},
    "colab_type": "code",
    "id": "ookYKtPvnoec"
   },
   "outputs": [],
   "source": [
    "train_data= pd.read_csv('application_train.csv')\n",
    "test_data= pd.read_csv('application_test.csv')"
   ]
  },
  {
   "cell_type": "code",
   "execution_count": 20,
   "metadata": {
    "colab": {},
    "colab_type": "code",
    "id": "EAuBgZkFnoem"
   },
   "outputs": [],
   "source": [
    "X=pd.concat((train_data, test_data), axis=0, ignore_index=True,sort = False)"
   ]
  },
  {
   "cell_type": "code",
   "execution_count": 21,
   "metadata": {
    "colab": {},
    "colab_type": "code",
    "id": "JIKU7CE4noew"
   },
   "outputs": [
    {
     "data": {
      "text/plain": [
       "(48744, 121)"
      ]
     },
     "execution_count": 21,
     "metadata": {},
     "output_type": "execute_result"
    }
   ],
   "source": [
    "test_data.shape"
   ]
  },
  {
   "cell_type": "code",
   "execution_count": 22,
   "metadata": {
    "colab": {},
    "colab_type": "code",
    "id": "i5eSM180noe3"
   },
   "outputs": [
    {
     "data": {
      "text/plain": [
       "(307511, 122)"
      ]
     },
     "execution_count": 22,
     "metadata": {},
     "output_type": "execute_result"
    }
   ],
   "source": [
    "train_data.shape"
   ]
  },
  {
   "cell_type": "code",
   "execution_count": 23,
   "metadata": {
    "colab": {},
    "colab_type": "code",
    "id": "PR5djS5Mnoe-"
   },
   "outputs": [],
   "source": [
    "merg_1=X.join(merg_bureau, how=\"left\", lsuffix='SK_ID_CURR', rsuffix='SK_ID_CURR')"
   ]
  },
  {
   "cell_type": "code",
   "execution_count": 24,
   "metadata": {
    "colab": {},
    "colab_type": "code",
    "id": "rQzaCG7SnofG"
   },
   "outputs": [
    {
     "data": {
      "text/plain": [
       "356255"
      ]
     },
     "execution_count": 24,
     "metadata": {},
     "output_type": "execute_result"
    }
   ],
   "source": [
    "len(merg_1)"
   ]
  },
  {
   "cell_type": "code",
   "execution_count": 26,
   "metadata": {
    "colab": {},
    "colab_type": "code",
    "id": "MoMeE3GVnofN"
   },
   "outputs": [],
   "source": [
    "merg_CI= pd.read_csv('credit_installment.csv')"
   ]
  },
  {
   "cell_type": "code",
   "execution_count": 27,
   "metadata": {
    "colab": {},
    "colab_type": "code",
    "id": "LAAILrZenofY"
   },
   "outputs": [],
   "source": [
    "merg_2=merg_1.join(merg_CI, how=\"left\", lsuffix='SK_ID_CURR', rsuffix='SK_ID_CURR')"
   ]
  },
  {
   "cell_type": "code",
   "execution_count": 28,
   "metadata": {
    "colab": {},
    "colab_type": "code",
    "id": "daIQgMX-nofe"
   },
   "outputs": [
    {
     "data": {
      "text/plain": [
       "356255"
      ]
     },
     "execution_count": 28,
     "metadata": {},
     "output_type": "execute_result"
    }
   ],
   "source": [
    "len(merg_2)"
   ]
  },
  {
   "cell_type": "code",
   "execution_count": 34,
   "metadata": {
    "colab": {},
    "colab_type": "code",
    "id": "ZpyxLP3Znofm"
   },
   "outputs": [],
   "source": [
    "prec_app= pd.read_csv('previous_application.csv')\n",
    "POS_cash= pd.read_csv('POS_cash_balance.csv')"
   ]
  },
  {
   "cell_type": "code",
   "execution_count": 35,
   "metadata": {
    "colab": {},
    "colab_type": "code",
    "id": "Y5niG02Tnoft"
   },
   "outputs": [
    {
     "data": {
      "text/plain": [
       "SK_ID_PREV                   0\n",
       "SK_ID_CURR                   0\n",
       "MONTHS_BALANCE               0\n",
       "CNT_INSTALMENT           26071\n",
       "CNT_INSTALMENT_FUTURE    26087\n",
       "NAME_CONTRACT_STATUS         0\n",
       "SK_DPD                       0\n",
       "SK_DPD_DEF                   0\n",
       "dtype: int64"
      ]
     },
     "execution_count": 35,
     "metadata": {},
     "output_type": "execute_result"
    }
   ],
   "source": [
    "POS_cash.isna().sum()"
   ]
  },
  {
   "cell_type": "code",
   "execution_count": 36,
   "metadata": {},
   "outputs": [
    {
     "data": {
      "text/plain": [
       "SK_ID_PREV                           0\n",
       "SK_ID_CURR                           0\n",
       "NAME_CONTRACT_TYPE                   0\n",
       "AMT_ANNUITY                     372235\n",
       "AMT_APPLICATION                      0\n",
       "AMT_CREDIT                           1\n",
       "AMT_DOWN_PAYMENT                895844\n",
       "AMT_GOODS_PRICE                 385515\n",
       "WEEKDAY_APPR_PROCESS_START           0\n",
       "HOUR_APPR_PROCESS_START              0\n",
       "FLAG_LAST_APPL_PER_CONTRACT          0\n",
       "NFLAG_LAST_APPL_IN_DAY               0\n",
       "RATE_DOWN_PAYMENT               895844\n",
       "RATE_INTEREST_PRIMARY          1664263\n",
       "RATE_INTEREST_PRIVILEGED       1664263\n",
       "NAME_CASH_LOAN_PURPOSE               0\n",
       "NAME_CONTRACT_STATUS                 0\n",
       "DAYS_DECISION                        0\n",
       "NAME_PAYMENT_TYPE                    0\n",
       "CODE_REJECT_REASON                   0\n",
       "NAME_TYPE_SUITE                 820405\n",
       "NAME_CLIENT_TYPE                     0\n",
       "NAME_GOODS_CATEGORY                  0\n",
       "NAME_PORTFOLIO                       0\n",
       "NAME_PRODUCT_TYPE                    0\n",
       "CHANNEL_TYPE                         0\n",
       "SELLERPLACE_AREA                     0\n",
       "NAME_SELLER_INDUSTRY                 0\n",
       "CNT_PAYMENT                     372230\n",
       "NAME_YIELD_GROUP                     0\n",
       "PRODUCT_COMBINATION                346\n",
       "DAYS_FIRST_DRAWING              673065\n",
       "DAYS_FIRST_DUE                  673065\n",
       "DAYS_LAST_DUE_1ST_VERSION       673065\n",
       "DAYS_LAST_DUE                   673065\n",
       "DAYS_TERMINATION                673065\n",
       "NFLAG_INSURED_ON_APPROVAL       673065\n",
       "dtype: int64"
      ]
     },
     "execution_count": 36,
     "metadata": {},
     "output_type": "execute_result"
    }
   ],
   "source": [
    "prec_app.isna().sum()"
   ]
  },
  {
   "cell_type": "code",
   "execution_count": 38,
   "metadata": {},
   "outputs": [
    {
     "data": {
      "text/plain": [
       "(1670214, 37)"
      ]
     },
     "execution_count": 38,
     "metadata": {},
     "output_type": "execute_result"
    }
   ],
   "source": [
    "prec_app.shape"
   ]
  },
  {
   "cell_type": "code",
   "execution_count": 40,
   "metadata": {
    "colab": {},
    "colab_type": "code",
    "id": "2fbess9unof2"
   },
   "outputs": [
    {
     "data": {
      "text/html": [
       "<div>\n",
       "<style scoped>\n",
       "    .dataframe tbody tr th:only-of-type {\n",
       "        vertical-align: middle;\n",
       "    }\n",
       "\n",
       "    .dataframe tbody tr th {\n",
       "        vertical-align: top;\n",
       "    }\n",
       "\n",
       "    .dataframe thead th {\n",
       "        text-align: right;\n",
       "    }\n",
       "</style>\n",
       "<table border=\"1\" class=\"dataframe\">\n",
       "  <thead>\n",
       "    <tr style=\"text-align: right;\">\n",
       "      <th></th>\n",
       "      <th>SK_ID_PREV</th>\n",
       "      <th>SK_ID_CURR</th>\n",
       "      <th>NAME_CONTRACT_TYPE</th>\n",
       "      <th>AMT_APPLICATION</th>\n",
       "      <th>AMT_CREDIT</th>\n",
       "      <th>AMT_DOWN_PAYMENT</th>\n",
       "      <th>WEEKDAY_APPR_PROCESS_START</th>\n",
       "      <th>HOUR_APPR_PROCESS_START</th>\n",
       "      <th>FLAG_LAST_APPL_PER_CONTRACT</th>\n",
       "      <th>NFLAG_LAST_APPL_IN_DAY</th>\n",
       "      <th>...</th>\n",
       "      <th>NAME_SELLER_INDUSTRY</th>\n",
       "      <th>CNT_PAYMENT</th>\n",
       "      <th>NAME_YIELD_GROUP</th>\n",
       "      <th>PRODUCT_COMBINATION</th>\n",
       "      <th>DAYS_FIRST_DRAWING</th>\n",
       "      <th>DAYS_FIRST_DUE</th>\n",
       "      <th>DAYS_LAST_DUE_1ST_VERSION</th>\n",
       "      <th>DAYS_LAST_DUE</th>\n",
       "      <th>DAYS_TERMINATION</th>\n",
       "      <th>NFLAG_INSURED_ON_APPROVAL</th>\n",
       "    </tr>\n",
       "  </thead>\n",
       "  <tbody>\n",
       "    <tr>\n",
       "      <td>0</td>\n",
       "      <td>2030495</td>\n",
       "      <td>271877</td>\n",
       "      <td>Consumer loans</td>\n",
       "      <td>17145.0</td>\n",
       "      <td>17145.0</td>\n",
       "      <td>0.0</td>\n",
       "      <td>SATURDAY</td>\n",
       "      <td>15</td>\n",
       "      <td>Y</td>\n",
       "      <td>1</td>\n",
       "      <td>...</td>\n",
       "      <td>Connectivity</td>\n",
       "      <td>12.0</td>\n",
       "      <td>middle</td>\n",
       "      <td>POS mobile with interest</td>\n",
       "      <td>365243.0</td>\n",
       "      <td>-42.0</td>\n",
       "      <td>300.0</td>\n",
       "      <td>-42.0</td>\n",
       "      <td>-37.0</td>\n",
       "      <td>0.0</td>\n",
       "    </tr>\n",
       "    <tr>\n",
       "      <td>1</td>\n",
       "      <td>2802425</td>\n",
       "      <td>108129</td>\n",
       "      <td>Cash loans</td>\n",
       "      <td>607500.0</td>\n",
       "      <td>679671.0</td>\n",
       "      <td>NaN</td>\n",
       "      <td>THURSDAY</td>\n",
       "      <td>11</td>\n",
       "      <td>Y</td>\n",
       "      <td>1</td>\n",
       "      <td>...</td>\n",
       "      <td>XNA</td>\n",
       "      <td>36.0</td>\n",
       "      <td>low_action</td>\n",
       "      <td>Cash X-Sell: low</td>\n",
       "      <td>365243.0</td>\n",
       "      <td>-134.0</td>\n",
       "      <td>916.0</td>\n",
       "      <td>365243.0</td>\n",
       "      <td>365243.0</td>\n",
       "      <td>1.0</td>\n",
       "    </tr>\n",
       "    <tr>\n",
       "      <td>2</td>\n",
       "      <td>2523466</td>\n",
       "      <td>122040</td>\n",
       "      <td>Cash loans</td>\n",
       "      <td>112500.0</td>\n",
       "      <td>136444.5</td>\n",
       "      <td>NaN</td>\n",
       "      <td>TUESDAY</td>\n",
       "      <td>11</td>\n",
       "      <td>Y</td>\n",
       "      <td>1</td>\n",
       "      <td>...</td>\n",
       "      <td>XNA</td>\n",
       "      <td>12.0</td>\n",
       "      <td>high</td>\n",
       "      <td>Cash X-Sell: high</td>\n",
       "      <td>365243.0</td>\n",
       "      <td>-271.0</td>\n",
       "      <td>59.0</td>\n",
       "      <td>365243.0</td>\n",
       "      <td>365243.0</td>\n",
       "      <td>1.0</td>\n",
       "    </tr>\n",
       "    <tr>\n",
       "      <td>3</td>\n",
       "      <td>2819243</td>\n",
       "      <td>176158</td>\n",
       "      <td>Cash loans</td>\n",
       "      <td>450000.0</td>\n",
       "      <td>470790.0</td>\n",
       "      <td>NaN</td>\n",
       "      <td>MONDAY</td>\n",
       "      <td>7</td>\n",
       "      <td>Y</td>\n",
       "      <td>1</td>\n",
       "      <td>...</td>\n",
       "      <td>XNA</td>\n",
       "      <td>12.0</td>\n",
       "      <td>middle</td>\n",
       "      <td>Cash X-Sell: middle</td>\n",
       "      <td>365243.0</td>\n",
       "      <td>-482.0</td>\n",
       "      <td>-152.0</td>\n",
       "      <td>-182.0</td>\n",
       "      <td>-177.0</td>\n",
       "      <td>1.0</td>\n",
       "    </tr>\n",
       "    <tr>\n",
       "      <td>4</td>\n",
       "      <td>1784265</td>\n",
       "      <td>202054</td>\n",
       "      <td>Cash loans</td>\n",
       "      <td>337500.0</td>\n",
       "      <td>404055.0</td>\n",
       "      <td>NaN</td>\n",
       "      <td>THURSDAY</td>\n",
       "      <td>9</td>\n",
       "      <td>Y</td>\n",
       "      <td>1</td>\n",
       "      <td>...</td>\n",
       "      <td>XNA</td>\n",
       "      <td>24.0</td>\n",
       "      <td>high</td>\n",
       "      <td>Cash Street: high</td>\n",
       "      <td>NaN</td>\n",
       "      <td>NaN</td>\n",
       "      <td>NaN</td>\n",
       "      <td>NaN</td>\n",
       "      <td>NaN</td>\n",
       "      <td>NaN</td>\n",
       "    </tr>\n",
       "    <tr>\n",
       "      <td>...</td>\n",
       "      <td>...</td>\n",
       "      <td>...</td>\n",
       "      <td>...</td>\n",
       "      <td>...</td>\n",
       "      <td>...</td>\n",
       "      <td>...</td>\n",
       "      <td>...</td>\n",
       "      <td>...</td>\n",
       "      <td>...</td>\n",
       "      <td>...</td>\n",
       "      <td>...</td>\n",
       "      <td>...</td>\n",
       "      <td>...</td>\n",
       "      <td>...</td>\n",
       "      <td>...</td>\n",
       "      <td>...</td>\n",
       "      <td>...</td>\n",
       "      <td>...</td>\n",
       "      <td>...</td>\n",
       "      <td>...</td>\n",
       "      <td>...</td>\n",
       "    </tr>\n",
       "    <tr>\n",
       "      <td>1670209</td>\n",
       "      <td>2300464</td>\n",
       "      <td>352015</td>\n",
       "      <td>Consumer loans</td>\n",
       "      <td>267295.5</td>\n",
       "      <td>311400.0</td>\n",
       "      <td>0.0</td>\n",
       "      <td>WEDNESDAY</td>\n",
       "      <td>12</td>\n",
       "      <td>Y</td>\n",
       "      <td>1</td>\n",
       "      <td>...</td>\n",
       "      <td>Furniture</td>\n",
       "      <td>30.0</td>\n",
       "      <td>low_normal</td>\n",
       "      <td>POS industry with interest</td>\n",
       "      <td>365243.0</td>\n",
       "      <td>-508.0</td>\n",
       "      <td>362.0</td>\n",
       "      <td>-358.0</td>\n",
       "      <td>-351.0</td>\n",
       "      <td>0.0</td>\n",
       "    </tr>\n",
       "    <tr>\n",
       "      <td>1670210</td>\n",
       "      <td>2357031</td>\n",
       "      <td>334635</td>\n",
       "      <td>Consumer loans</td>\n",
       "      <td>87750.0</td>\n",
       "      <td>64291.5</td>\n",
       "      <td>29250.0</td>\n",
       "      <td>TUESDAY</td>\n",
       "      <td>15</td>\n",
       "      <td>Y</td>\n",
       "      <td>1</td>\n",
       "      <td>...</td>\n",
       "      <td>Furniture</td>\n",
       "      <td>12.0</td>\n",
       "      <td>middle</td>\n",
       "      <td>POS industry with interest</td>\n",
       "      <td>365243.0</td>\n",
       "      <td>-1604.0</td>\n",
       "      <td>-1274.0</td>\n",
       "      <td>-1304.0</td>\n",
       "      <td>-1297.0</td>\n",
       "      <td>0.0</td>\n",
       "    </tr>\n",
       "    <tr>\n",
       "      <td>1670211</td>\n",
       "      <td>2659632</td>\n",
       "      <td>249544</td>\n",
       "      <td>Consumer loans</td>\n",
       "      <td>105237.0</td>\n",
       "      <td>102523.5</td>\n",
       "      <td>10525.5</td>\n",
       "      <td>MONDAY</td>\n",
       "      <td>12</td>\n",
       "      <td>Y</td>\n",
       "      <td>1</td>\n",
       "      <td>...</td>\n",
       "      <td>Consumer electronics</td>\n",
       "      <td>10.0</td>\n",
       "      <td>low_normal</td>\n",
       "      <td>POS household with interest</td>\n",
       "      <td>365243.0</td>\n",
       "      <td>-1457.0</td>\n",
       "      <td>-1187.0</td>\n",
       "      <td>-1187.0</td>\n",
       "      <td>-1181.0</td>\n",
       "      <td>0.0</td>\n",
       "    </tr>\n",
       "    <tr>\n",
       "      <td>1670212</td>\n",
       "      <td>2785582</td>\n",
       "      <td>400317</td>\n",
       "      <td>Cash loans</td>\n",
       "      <td>180000.0</td>\n",
       "      <td>191880.0</td>\n",
       "      <td>NaN</td>\n",
       "      <td>WEDNESDAY</td>\n",
       "      <td>9</td>\n",
       "      <td>Y</td>\n",
       "      <td>1</td>\n",
       "      <td>...</td>\n",
       "      <td>XNA</td>\n",
       "      <td>12.0</td>\n",
       "      <td>low_normal</td>\n",
       "      <td>Cash X-Sell: low</td>\n",
       "      <td>365243.0</td>\n",
       "      <td>-1155.0</td>\n",
       "      <td>-825.0</td>\n",
       "      <td>-825.0</td>\n",
       "      <td>-817.0</td>\n",
       "      <td>1.0</td>\n",
       "    </tr>\n",
       "    <tr>\n",
       "      <td>1670213</td>\n",
       "      <td>2418762</td>\n",
       "      <td>261212</td>\n",
       "      <td>Cash loans</td>\n",
       "      <td>360000.0</td>\n",
       "      <td>360000.0</td>\n",
       "      <td>NaN</td>\n",
       "      <td>SUNDAY</td>\n",
       "      <td>10</td>\n",
       "      <td>Y</td>\n",
       "      <td>1</td>\n",
       "      <td>...</td>\n",
       "      <td>XNA</td>\n",
       "      <td>48.0</td>\n",
       "      <td>middle</td>\n",
       "      <td>Cash X-Sell: middle</td>\n",
       "      <td>365243.0</td>\n",
       "      <td>-1163.0</td>\n",
       "      <td>247.0</td>\n",
       "      <td>-443.0</td>\n",
       "      <td>-423.0</td>\n",
       "      <td>0.0</td>\n",
       "    </tr>\n",
       "  </tbody>\n",
       "</table>\n",
       "<p>1670214 rows × 32 columns</p>\n",
       "</div>"
      ],
      "text/plain": [
       "         SK_ID_PREV  SK_ID_CURR NAME_CONTRACT_TYPE  AMT_APPLICATION  \\\n",
       "0           2030495      271877     Consumer loans          17145.0   \n",
       "1           2802425      108129         Cash loans         607500.0   \n",
       "2           2523466      122040         Cash loans         112500.0   \n",
       "3           2819243      176158         Cash loans         450000.0   \n",
       "4           1784265      202054         Cash loans         337500.0   \n",
       "...             ...         ...                ...              ...   \n",
       "1670209     2300464      352015     Consumer loans         267295.5   \n",
       "1670210     2357031      334635     Consumer loans          87750.0   \n",
       "1670211     2659632      249544     Consumer loans         105237.0   \n",
       "1670212     2785582      400317         Cash loans         180000.0   \n",
       "1670213     2418762      261212         Cash loans         360000.0   \n",
       "\n",
       "         AMT_CREDIT  AMT_DOWN_PAYMENT WEEKDAY_APPR_PROCESS_START  \\\n",
       "0           17145.0               0.0                   SATURDAY   \n",
       "1          679671.0               NaN                   THURSDAY   \n",
       "2          136444.5               NaN                    TUESDAY   \n",
       "3          470790.0               NaN                     MONDAY   \n",
       "4          404055.0               NaN                   THURSDAY   \n",
       "...             ...               ...                        ...   \n",
       "1670209    311400.0               0.0                  WEDNESDAY   \n",
       "1670210     64291.5           29250.0                    TUESDAY   \n",
       "1670211    102523.5           10525.5                     MONDAY   \n",
       "1670212    191880.0               NaN                  WEDNESDAY   \n",
       "1670213    360000.0               NaN                     SUNDAY   \n",
       "\n",
       "         HOUR_APPR_PROCESS_START FLAG_LAST_APPL_PER_CONTRACT  \\\n",
       "0                             15                           Y   \n",
       "1                             11                           Y   \n",
       "2                             11                           Y   \n",
       "3                              7                           Y   \n",
       "4                              9                           Y   \n",
       "...                          ...                         ...   \n",
       "1670209                       12                           Y   \n",
       "1670210                       15                           Y   \n",
       "1670211                       12                           Y   \n",
       "1670212                        9                           Y   \n",
       "1670213                       10                           Y   \n",
       "\n",
       "         NFLAG_LAST_APPL_IN_DAY  ...  NAME_SELLER_INDUSTRY CNT_PAYMENT  \\\n",
       "0                             1  ...          Connectivity        12.0   \n",
       "1                             1  ...                   XNA        36.0   \n",
       "2                             1  ...                   XNA        12.0   \n",
       "3                             1  ...                   XNA        12.0   \n",
       "4                             1  ...                   XNA        24.0   \n",
       "...                         ...  ...                   ...         ...   \n",
       "1670209                       1  ...             Furniture        30.0   \n",
       "1670210                       1  ...             Furniture        12.0   \n",
       "1670211                       1  ...  Consumer electronics        10.0   \n",
       "1670212                       1  ...                   XNA        12.0   \n",
       "1670213                       1  ...                   XNA        48.0   \n",
       "\n",
       "        NAME_YIELD_GROUP          PRODUCT_COMBINATION DAYS_FIRST_DRAWING  \\\n",
       "0                 middle     POS mobile with interest           365243.0   \n",
       "1             low_action             Cash X-Sell: low           365243.0   \n",
       "2                   high            Cash X-Sell: high           365243.0   \n",
       "3                 middle          Cash X-Sell: middle           365243.0   \n",
       "4                   high            Cash Street: high                NaN   \n",
       "...                  ...                          ...                ...   \n",
       "1670209       low_normal   POS industry with interest           365243.0   \n",
       "1670210           middle   POS industry with interest           365243.0   \n",
       "1670211       low_normal  POS household with interest           365243.0   \n",
       "1670212       low_normal             Cash X-Sell: low           365243.0   \n",
       "1670213           middle          Cash X-Sell: middle           365243.0   \n",
       "\n",
       "        DAYS_FIRST_DUE DAYS_LAST_DUE_1ST_VERSION DAYS_LAST_DUE  \\\n",
       "0                -42.0                     300.0         -42.0   \n",
       "1               -134.0                     916.0      365243.0   \n",
       "2               -271.0                      59.0      365243.0   \n",
       "3               -482.0                    -152.0        -182.0   \n",
       "4                  NaN                       NaN           NaN   \n",
       "...                ...                       ...           ...   \n",
       "1670209         -508.0                     362.0        -358.0   \n",
       "1670210        -1604.0                   -1274.0       -1304.0   \n",
       "1670211        -1457.0                   -1187.0       -1187.0   \n",
       "1670212        -1155.0                    -825.0        -825.0   \n",
       "1670213        -1163.0                     247.0        -443.0   \n",
       "\n",
       "        DAYS_TERMINATION NFLAG_INSURED_ON_APPROVAL  \n",
       "0                  -37.0                       0.0  \n",
       "1               365243.0                       1.0  \n",
       "2               365243.0                       1.0  \n",
       "3                 -177.0                       1.0  \n",
       "4                    NaN                       NaN  \n",
       "...                  ...                       ...  \n",
       "1670209           -351.0                       0.0  \n",
       "1670210          -1297.0                       0.0  \n",
       "1670211          -1181.0                       0.0  \n",
       "1670212           -817.0                       1.0  \n",
       "1670213           -423.0                       0.0  \n",
       "\n",
       "[1670214 rows x 32 columns]"
      ]
     },
     "execution_count": 40,
     "metadata": {},
     "output_type": "execute_result"
    }
   ],
   "source": [
    "#prec_app=prec_app.drop(columns=['AMT_ANNUITY', 'AMT_GOODS_PRICE', 'RATE_INTEREST_PRIMARY', 'RATE_INTEREST_PRIVILEGED','NAME_TYPE_SUITE'])\n",
    "#prec_app"
   ]
  },
  {
   "cell_type": "code",
   "execution_count": 43,
   "metadata": {},
   "outputs": [],
   "source": [
    "prec_app = prec_app.dropna(axis=1, how='any', thresh=None, subset=None, inplace=False)"
   ]
  },
  {
   "cell_type": "code",
   "execution_count": 44,
   "metadata": {},
   "outputs": [
    {
     "data": {
      "text/plain": [
       "(1670214, 21)"
      ]
     },
     "execution_count": 44,
     "metadata": {},
     "output_type": "execute_result"
    }
   ],
   "source": [
    "prec_app.shape"
   ]
  },
  {
   "cell_type": "code",
   "execution_count": 45,
   "metadata": {
    "colab": {},
    "colab_type": "code",
    "id": "G5C3XGqWnof-"
   },
   "outputs": [],
   "source": [
    "POS_cash=POS_cash.drop(columns=['CNT_INSTALMENT','CNT_INSTALMENT_FUTURE'])"
   ]
  },
  {
   "cell_type": "code",
   "execution_count": 46,
   "metadata": {
    "colab": {},
    "colab_type": "code",
    "id": "cC375RzQnogG"
   },
   "outputs": [
    {
     "data": {
      "text/plain": [
       "10001358"
      ]
     },
     "execution_count": 46,
     "metadata": {},
     "output_type": "execute_result"
    }
   ],
   "source": [
    "len(POS_cash)"
   ]
  },
  {
   "cell_type": "code",
   "execution_count": 47,
   "metadata": {
    "colab": {},
    "colab_type": "code",
    "id": "gB04tXOunogM"
   },
   "outputs": [],
   "source": [
    "merg_PC=prec_app.join(POS_cash, how=\"left\", lsuffix='SK_ID_CURR', rsuffix='SK_ID_CURR')"
   ]
  },
  {
   "cell_type": "code",
   "execution_count": 48,
   "metadata": {
    "colab": {},
    "colab_type": "code",
    "id": "IqnRZQpknogS"
   },
   "outputs": [
    {
     "data": {
      "text/plain": [
       "1670214"
      ]
     },
     "execution_count": 48,
     "metadata": {},
     "output_type": "execute_result"
    }
   ],
   "source": [
    "len(merg_PC)"
   ]
  },
  {
   "cell_type": "code",
   "execution_count": 52,
   "metadata": {
    "colab": {},
    "colab_type": "code",
    "id": "oDwXXbvSnogb"
   },
   "outputs": [],
   "source": [
    "merg_3=merg_2.join(merg_PC, how=\"left\", lsuffix='SK_ID_CURR', rsuffix='SK_ID_CURR')"
   ]
  },
  {
   "cell_type": "code",
   "execution_count": 50,
   "metadata": {
    "colab": {},
    "colab_type": "code",
    "id": "p49cddHSnogi"
   },
   "outputs": [
    {
     "data": {
      "text/plain": [
       "(356255, 183)"
      ]
     },
     "execution_count": 50,
     "metadata": {},
     "output_type": "execute_result"
    }
   ],
   "source": [
    "merg_3.shape"
   ]
  },
  {
   "cell_type": "code",
   "execution_count": 51,
   "metadata": {
    "colab": {},
    "colab_type": "code",
    "id": "-wP9nSlinogr"
   },
   "outputs": [
    {
     "name": "stdout",
     "output_type": "stream",
     "text": [
      "Your selected dataframe has 183 columns.\n",
      "There are 69 columns that have missing values.\n"
     ]
    },
    {
     "data": {
      "text/html": [
       "<div>\n",
       "<style scoped>\n",
       "    .dataframe tbody tr th:only-of-type {\n",
       "        vertical-align: middle;\n",
       "    }\n",
       "\n",
       "    .dataframe tbody tr th {\n",
       "        vertical-align: top;\n",
       "    }\n",
       "\n",
       "    .dataframe thead th {\n",
       "        text-align: right;\n",
       "    }\n",
       "</style>\n",
       "<table border=\"1\" class=\"dataframe\">\n",
       "  <thead>\n",
       "    <tr style=\"text-align: right;\">\n",
       "      <th></th>\n",
       "      <th>Missing Values</th>\n",
       "      <th>% of Total Values</th>\n",
       "    </tr>\n",
       "  </thead>\n",
       "  <tbody>\n",
       "    <tr>\n",
       "      <td>COMMONAREA_AVG</td>\n",
       "      <td>248360</td>\n",
       "      <td>69.7</td>\n",
       "    </tr>\n",
       "    <tr>\n",
       "      <td>COMMONAREA_MEDI</td>\n",
       "      <td>248360</td>\n",
       "      <td>69.7</td>\n",
       "    </tr>\n",
       "    <tr>\n",
       "      <td>COMMONAREA_MODE</td>\n",
       "      <td>248360</td>\n",
       "      <td>69.7</td>\n",
       "    </tr>\n",
       "    <tr>\n",
       "      <td>NONLIVINGAPARTMENTS_MEDI</td>\n",
       "      <td>246861</td>\n",
       "      <td>69.3</td>\n",
       "    </tr>\n",
       "    <tr>\n",
       "      <td>NONLIVINGAPARTMENTS_MODE</td>\n",
       "      <td>246861</td>\n",
       "      <td>69.3</td>\n",
       "    </tr>\n",
       "  </tbody>\n",
       "</table>\n",
       "</div>"
      ],
      "text/plain": [
       "                          Missing Values  % of Total Values\n",
       "COMMONAREA_AVG                    248360               69.7\n",
       "COMMONAREA_MEDI                   248360               69.7\n",
       "COMMONAREA_MODE                   248360               69.7\n",
       "NONLIVINGAPARTMENTS_MEDI          246861               69.3\n",
       "NONLIVINGAPARTMENTS_MODE          246861               69.3"
      ]
     },
     "execution_count": 51,
     "metadata": {},
     "output_type": "execute_result"
    }
   ],
   "source": [
    "missing_values_table(merg_3).head()"
   ]
  },
  {
   "cell_type": "code",
   "execution_count": 53,
   "metadata": {
    "colab": {},
    "colab_type": "code",
    "id": "YCfnBtU2nog4"
   },
   "outputs": [
    {
     "name": "stdout",
     "output_type": "stream",
     "text": [
      "'OWN_CAR_AGE','OCCUPATION_TYPE','EXT_SOURCE_1','APARTMENTS_AVG','BASEMENTAREA_AVG','YEARS_BEGINEXPLUATATION_AVG','YEARS_BUILD_AVG','COMMONAREA_AVG','ELEVATORS_AVG','ENTRANCES_AVG','FLOORSMAX_AVG','FLOORSMIN_AVG','LANDAREA_AVG','LIVINGAPARTMENTS_AVG','LIVINGAREA_AVG','NONLIVINGAPARTMENTS_AVG','NONLIVINGAREA_AVG','APARTMENTS_MODE','BASEMENTAREA_MODE','YEARS_BEGINEXPLUATATION_MODE','YEARS_BUILD_MODE','COMMONAREA_MODE','ELEVATORS_MODE','ENTRANCES_MODE','FLOORSMAX_MODE','FLOORSMIN_MODE','LANDAREA_MODE','LIVINGAPARTMENTS_MODE','LIVINGAREA_MODE','NONLIVINGAPARTMENTS_MODE','NONLIVINGAREA_MODE','APARTMENTS_MEDI','BASEMENTAREA_MEDI','YEARS_BEGINEXPLUATATION_MEDI','YEARS_BUILD_MEDI','COMMONAREA_MEDI','ELEVATORS_MEDI','ENTRANCES_MEDI','FLOORSMAX_MEDI','FLOORSMIN_MEDI','LANDAREA_MEDI','LIVINGAPARTMENTS_MEDI','LIVINGAREA_MEDI','NONLIVINGAPARTMENTS_MEDI','NONLIVINGAREA_MEDI','FONDKAPREMONT_MODE','HOUSETYPE_MODE','TOTALAREA_MODE','WALLSMATERIAL_MODE','EMERGENCYSTATE_MODE',"
     ]
    }
   ],
   "source": [
    "for col in (merg_3.loc[:, merg_3.isna().sum()>100000]):\n",
    "    print(f\"'{col}'\" , end=',')"
   ]
  },
  {
   "cell_type": "code",
   "execution_count": 54,
   "metadata": {
    "colab": {},
    "colab_type": "code",
    "id": "2AbG6zl7nog_"
   },
   "outputs": [],
   "source": [
    "merg_4=merg_3.drop(columns=['APARTMENTS_AVG','APARTMENTS_MEDI','APARTMENTS_MODE','BASEMENTAREA_AVG','BASEMENTAREA_MEDI',\n",
    "                            'BASEMENTAREA_MODE','COMMONAREA_AVG','COMMONAREA_MEDI','COMMONAREA_MODE','ELEVATORS_AVG',\n",
    "                            'ELEVATORS_MEDI','ELEVATORS_MODE','EMERGENCYSTATE_MODE','ENTRANCES_AVG','ENTRANCES_MEDI','ENTRANCES_MODE',\n",
    "                            'EXT_SOURCE_1','FLOORSMAX_AVG','FLOORSMAX_MEDI','FLOORSMAX_MODE','FLOORSMIN_AVG','FLOORSMIN_MEDI',\n",
    "                            'FLOORSMIN_MODE','FONDKAPREMONT_MODE','HOUSETYPE_MODE','LANDAREA_AVG','LANDAREA_MEDI','LANDAREA_MODE',\n",
    "                            'LIVINGAPARTMENTS_AVG','LIVINGAPARTMENTS_MEDI','LIVINGAPARTMENTS_MODE','LIVINGAREA_AVG','LIVINGAREA_MEDI',\n",
    "                            'LIVINGAREA_MODE','NONLIVINGAPARTMENTS_AVG','NONLIVINGAPARTMENTS_MEDI','NONLIVINGAPARTMENTS_MODE',\n",
    "                            'NONLIVINGAREA_AVG','NONLIVINGAREA_MEDI','NONLIVINGAREA_MODE','OCCUPATION_TYPE',\n",
    "                            'OWN_CAR_AGE','TOTALAREA_MODE','WALLSMATERIAL_MODE','YEARS_BEGINEXPLUATATION_AVG',\n",
    "                            'YEARS_BEGINEXPLUATATION_MEDI','YEARS_BEGINEXPLUATATION_MODE','YEARS_BUILD_AVG','YEARS_BUILD_MEDI',\n",
    "                            'YEARS_BUILD_MODE'])"
   ]
  },
  {
   "cell_type": "code",
   "execution_count": 55,
   "metadata": {
    "colab": {},
    "colab_type": "code",
    "id": "nWAijT03nohG"
   },
   "outputs": [
    {
     "data": {
      "text/plain": [
       "(356255, 133)"
      ]
     },
     "execution_count": 55,
     "metadata": {},
     "output_type": "execute_result"
    }
   ],
   "source": [
    "merg_4.shape"
   ]
  },
  {
   "cell_type": "code",
   "execution_count": 56,
   "metadata": {
    "colab": {},
    "colab_type": "code",
    "id": "F14GL3jtnohS"
   },
   "outputs": [
    {
     "data": {
      "text/html": [
       "<div>\n",
       "<style scoped>\n",
       "    .dataframe tbody tr th:only-of-type {\n",
       "        vertical-align: middle;\n",
       "    }\n",
       "\n",
       "    .dataframe tbody tr th {\n",
       "        vertical-align: top;\n",
       "    }\n",
       "\n",
       "    .dataframe thead th {\n",
       "        text-align: right;\n",
       "    }\n",
       "</style>\n",
       "<table border=\"1\" class=\"dataframe\">\n",
       "  <thead>\n",
       "    <tr style=\"text-align: right;\">\n",
       "      <th></th>\n",
       "      <th>SK_ID_CURRSK_ID_CURRSK_ID_CURR</th>\n",
       "      <th>TARGET</th>\n",
       "      <th>NAME_CONTRACT_TYPESK_ID_CURR</th>\n",
       "      <th>CODE_GENDER</th>\n",
       "      <th>FLAG_OWN_CAR</th>\n",
       "      <th>FLAG_OWN_REALTY</th>\n",
       "      <th>CNT_CHILDREN</th>\n",
       "      <th>AMT_INCOME_TOTAL</th>\n",
       "      <th>AMT_CREDIT</th>\n",
       "      <th>AMT_ANNUITY</th>\n",
       "      <th>...</th>\n",
       "      <th>CHANNEL_TYPE</th>\n",
       "      <th>SELLERPLACE_AREA</th>\n",
       "      <th>NAME_SELLER_INDUSTRY</th>\n",
       "      <th>NAME_YIELD_GROUP</th>\n",
       "      <th>SK_ID_PREVSK_ID_CURRSK_ID_CURR</th>\n",
       "      <th>SK_ID_CURRSK_ID_CURR</th>\n",
       "      <th>MONTHS_BALANCE</th>\n",
       "      <th>NAME_CONTRACT_STATUSSK_ID_CURR</th>\n",
       "      <th>SK_DPDSK_ID_CURR</th>\n",
       "      <th>SK_DPD_DEFSK_ID_CURR</th>\n",
       "    </tr>\n",
       "  </thead>\n",
       "  <tbody>\n",
       "    <tr>\n",
       "      <td>0</td>\n",
       "      <td>100002</td>\n",
       "      <td>1.0</td>\n",
       "      <td>Cash loans</td>\n",
       "      <td>M</td>\n",
       "      <td>N</td>\n",
       "      <td>Y</td>\n",
       "      <td>0</td>\n",
       "      <td>202500.0</td>\n",
       "      <td>406597.5</td>\n",
       "      <td>24700.5</td>\n",
       "      <td>...</td>\n",
       "      <td>Country-wide</td>\n",
       "      <td>35</td>\n",
       "      <td>Connectivity</td>\n",
       "      <td>middle</td>\n",
       "      <td>1803195</td>\n",
       "      <td>182943</td>\n",
       "      <td>-31</td>\n",
       "      <td>Active</td>\n",
       "      <td>0</td>\n",
       "      <td>0</td>\n",
       "    </tr>\n",
       "    <tr>\n",
       "      <td>1</td>\n",
       "      <td>100003</td>\n",
       "      <td>0.0</td>\n",
       "      <td>Cash loans</td>\n",
       "      <td>F</td>\n",
       "      <td>N</td>\n",
       "      <td>N</td>\n",
       "      <td>0</td>\n",
       "      <td>270000.0</td>\n",
       "      <td>1293502.5</td>\n",
       "      <td>35698.5</td>\n",
       "      <td>...</td>\n",
       "      <td>Contact center</td>\n",
       "      <td>-1</td>\n",
       "      <td>XNA</td>\n",
       "      <td>low_action</td>\n",
       "      <td>1715348</td>\n",
       "      <td>367990</td>\n",
       "      <td>-33</td>\n",
       "      <td>Active</td>\n",
       "      <td>0</td>\n",
       "      <td>0</td>\n",
       "    </tr>\n",
       "    <tr>\n",
       "      <td>2</td>\n",
       "      <td>100004</td>\n",
       "      <td>0.0</td>\n",
       "      <td>Revolving loans</td>\n",
       "      <td>M</td>\n",
       "      <td>Y</td>\n",
       "      <td>Y</td>\n",
       "      <td>0</td>\n",
       "      <td>67500.0</td>\n",
       "      <td>135000.0</td>\n",
       "      <td>6750.0</td>\n",
       "      <td>...</td>\n",
       "      <td>Credit and cash offices</td>\n",
       "      <td>-1</td>\n",
       "      <td>XNA</td>\n",
       "      <td>high</td>\n",
       "      <td>1784872</td>\n",
       "      <td>397406</td>\n",
       "      <td>-32</td>\n",
       "      <td>Active</td>\n",
       "      <td>0</td>\n",
       "      <td>0</td>\n",
       "    </tr>\n",
       "    <tr>\n",
       "      <td>3</td>\n",
       "      <td>100006</td>\n",
       "      <td>0.0</td>\n",
       "      <td>Cash loans</td>\n",
       "      <td>F</td>\n",
       "      <td>N</td>\n",
       "      <td>Y</td>\n",
       "      <td>0</td>\n",
       "      <td>135000.0</td>\n",
       "      <td>312682.5</td>\n",
       "      <td>29686.5</td>\n",
       "      <td>...</td>\n",
       "      <td>Credit and cash offices</td>\n",
       "      <td>-1</td>\n",
       "      <td>XNA</td>\n",
       "      <td>middle</td>\n",
       "      <td>1903291</td>\n",
       "      <td>269225</td>\n",
       "      <td>-35</td>\n",
       "      <td>Active</td>\n",
       "      <td>0</td>\n",
       "      <td>0</td>\n",
       "    </tr>\n",
       "    <tr>\n",
       "      <td>4</td>\n",
       "      <td>100007</td>\n",
       "      <td>0.0</td>\n",
       "      <td>Cash loans</td>\n",
       "      <td>M</td>\n",
       "      <td>N</td>\n",
       "      <td>Y</td>\n",
       "      <td>0</td>\n",
       "      <td>121500.0</td>\n",
       "      <td>513000.0</td>\n",
       "      <td>21865.5</td>\n",
       "      <td>...</td>\n",
       "      <td>Credit and cash offices</td>\n",
       "      <td>-1</td>\n",
       "      <td>XNA</td>\n",
       "      <td>high</td>\n",
       "      <td>2341044</td>\n",
       "      <td>334279</td>\n",
       "      <td>-35</td>\n",
       "      <td>Active</td>\n",
       "      <td>0</td>\n",
       "      <td>0</td>\n",
       "    </tr>\n",
       "  </tbody>\n",
       "</table>\n",
       "<p>5 rows × 133 columns</p>\n",
       "</div>"
      ],
      "text/plain": [
       "   SK_ID_CURRSK_ID_CURRSK_ID_CURR  TARGET NAME_CONTRACT_TYPESK_ID_CURR  \\\n",
       "0                          100002     1.0                   Cash loans   \n",
       "1                          100003     0.0                   Cash loans   \n",
       "2                          100004     0.0              Revolving loans   \n",
       "3                          100006     0.0                   Cash loans   \n",
       "4                          100007     0.0                   Cash loans   \n",
       "\n",
       "  CODE_GENDER FLAG_OWN_CAR FLAG_OWN_REALTY  CNT_CHILDREN  AMT_INCOME_TOTAL  \\\n",
       "0           M            N               Y             0          202500.0   \n",
       "1           F            N               N             0          270000.0   \n",
       "2           M            Y               Y             0           67500.0   \n",
       "3           F            N               Y             0          135000.0   \n",
       "4           M            N               Y             0          121500.0   \n",
       "\n",
       "   AMT_CREDIT  AMT_ANNUITY  ...             CHANNEL_TYPE SELLERPLACE_AREA  \\\n",
       "0    406597.5      24700.5  ...             Country-wide               35   \n",
       "1   1293502.5      35698.5  ...           Contact center               -1   \n",
       "2    135000.0       6750.0  ...  Credit and cash offices               -1   \n",
       "3    312682.5      29686.5  ...  Credit and cash offices               -1   \n",
       "4    513000.0      21865.5  ...  Credit and cash offices               -1   \n",
       "\n",
       "  NAME_SELLER_INDUSTRY NAME_YIELD_GROUP SK_ID_PREVSK_ID_CURRSK_ID_CURR  \\\n",
       "0         Connectivity           middle                        1803195   \n",
       "1                  XNA       low_action                        1715348   \n",
       "2                  XNA             high                        1784872   \n",
       "3                  XNA           middle                        1903291   \n",
       "4                  XNA             high                        2341044   \n",
       "\n",
       "  SK_ID_CURRSK_ID_CURR  MONTHS_BALANCE  NAME_CONTRACT_STATUSSK_ID_CURR  \\\n",
       "0               182943             -31                          Active   \n",
       "1               367990             -33                          Active   \n",
       "2               397406             -32                          Active   \n",
       "3               269225             -35                          Active   \n",
       "4               334279             -35                          Active   \n",
       "\n",
       "   SK_DPDSK_ID_CURR  SK_DPD_DEFSK_ID_CURR  \n",
       "0                 0                     0  \n",
       "1                 0                     0  \n",
       "2                 0                     0  \n",
       "3                 0                     0  \n",
       "4                 0                     0  \n",
       "\n",
       "[5 rows x 133 columns]"
      ]
     },
     "execution_count": 56,
     "metadata": {},
     "output_type": "execute_result"
    }
   ],
   "source": [
    "merg_4.head()"
   ]
  },
  {
   "cell_type": "code",
   "execution_count": 57,
   "metadata": {
    "colab": {},
    "colab_type": "code",
    "id": "wihpHwPnnohY"
   },
   "outputs": [],
   "source": [
    "merg_4_dummy = pd.get_dummies(merg_4)"
   ]
  },
  {
   "cell_type": "code",
   "execution_count": 58,
   "metadata": {
    "colab": {},
    "colab_type": "code",
    "id": "FIEPpknNnohe"
   },
   "outputs": [
    {
     "data": {
      "text/plain": [
       "(356255, 367)"
      ]
     },
     "execution_count": 58,
     "metadata": {},
     "output_type": "execute_result"
    }
   ],
   "source": [
    "merg_4_dummy.shape"
   ]
  },
  {
   "cell_type": "code",
   "execution_count": 59,
   "metadata": {
    "colab": {},
    "colab_type": "code",
    "id": "yGDGCdPFnohl"
   },
   "outputs": [
    {
     "data": {
      "text/plain": [
       "EXT_SOURCE_3                        -0.178919\n",
       "EXT_SOURCE_2                        -0.160472\n",
       "DAYS_EMPLOYED                       -0.044932\n",
       "AMT_GOODS_PRICE                     -0.039645\n",
       "REGION_POPULATION_RELATIVE          -0.037227\n",
       "AMT_CREDIT                          -0.030369\n",
       "FLAG_DOCUMENT_6                     -0.028602\n",
       "HOUR_APPR_PROCESS_STARTSK_ID_CURR   -0.024166\n",
       "FLAG_PHONE                          -0.023806\n",
       "AMT_ANNUITY                         -0.012817\n",
       "AMT_REQ_CREDIT_BUREAU_MON           -0.012462\n",
       "FLAG_DOCUMENT_16                    -0.011615\n",
       "FLAG_DOCUMENT_13                    -0.011583\n",
       "FLAG_DOCUMENT_14                    -0.009464\n",
       "FLAG_DOCUMENT_8                     -0.008040\n",
       "FLAG_DOCUMENT_18                    -0.007952\n",
       "FLAG_DOCUMENT_15                    -0.006536\n",
       "MONTHS_BALANCESK_ID_CURR            -0.005262\n",
       "FLAG_DOCUMENT_9                     -0.004352\n",
       "FLAG_DOCUMENT_11                    -0.004229\n",
       "Name: TARGET, dtype: float64"
      ]
     },
     "execution_count": 59,
     "metadata": {},
     "output_type": "execute_result"
    }
   ],
   "source": [
    "correlation=merg_4.corr()['TARGET'].sort_values()\n",
    "correlation.head(20)"
   ]
  },
  {
   "cell_type": "code",
   "execution_count": 60,
   "metadata": {
    "colab": {},
    "colab_type": "code",
    "id": "gTIXgnNinoht"
   },
   "outputs": [
    {
     "data": {
      "text/plain": [
       "FLAG_DOCUMENT_3                0.044346\n",
       "REG_CITY_NOT_LIVE_CITY         0.044395\n",
       "FLAG_EMP_PHONE                 0.045982\n",
       "REG_CITY_NOT_WORK_CITY         0.050994\n",
       "DAYS_ID_PUBLISH                0.051457\n",
       "DAYS_LAST_PHONE_CHANGE         0.055218\n",
       "REGION_RATING_CLIENT           0.058899\n",
       "REGION_RATING_CLIENT_W_CITY    0.060893\n",
       "DAYS_BIRTH                     0.078239\n",
       "TARGET                         1.000000\n",
       "Name: TARGET, dtype: float64"
      ]
     },
     "execution_count": 60,
     "metadata": {},
     "output_type": "execute_result"
    }
   ],
   "source": [
    "correlation.tail(10)"
   ]
  },
  {
   "cell_type": "code",
   "execution_count": 62,
   "metadata": {
    "colab": {},
    "colab_type": "code",
    "id": "r8GIDCVjnohz"
   },
   "outputs": [
    {
     "name": "stdout",
     "output_type": "stream",
     "text": [
      "Your selected dataframe has 367 columns.\n",
      "There are 18 columns that have missing values.\n"
     ]
    },
    {
     "data": {
      "text/html": [
       "<div>\n",
       "<style scoped>\n",
       "    .dataframe tbody tr th:only-of-type {\n",
       "        vertical-align: middle;\n",
       "    }\n",
       "\n",
       "    .dataframe tbody tr th {\n",
       "        vertical-align: top;\n",
       "    }\n",
       "\n",
       "    .dataframe thead th {\n",
       "        text-align: right;\n",
       "    }\n",
       "</style>\n",
       "<table border=\"1\" class=\"dataframe\">\n",
       "  <thead>\n",
       "    <tr style=\"text-align: right;\">\n",
       "      <th></th>\n",
       "      <th>Missing Values</th>\n",
       "      <th>% of Total Values</th>\n",
       "    </tr>\n",
       "  </thead>\n",
       "  <tbody>\n",
       "    <tr>\n",
       "      <td>EXT_SOURCE_3</td>\n",
       "      <td>69633</td>\n",
       "      <td>19.5</td>\n",
       "    </tr>\n",
       "    <tr>\n",
       "      <td>TARGET</td>\n",
       "      <td>48744</td>\n",
       "      <td>13.7</td>\n",
       "    </tr>\n",
       "    <tr>\n",
       "      <td>AMT_REQ_CREDIT_BUREAU_HOUR</td>\n",
       "      <td>47568</td>\n",
       "      <td>13.4</td>\n",
       "    </tr>\n",
       "    <tr>\n",
       "      <td>AMT_REQ_CREDIT_BUREAU_YEAR</td>\n",
       "      <td>47568</td>\n",
       "      <td>13.4</td>\n",
       "    </tr>\n",
       "    <tr>\n",
       "      <td>AMT_REQ_CREDIT_BUREAU_QRT</td>\n",
       "      <td>47568</td>\n",
       "      <td>13.4</td>\n",
       "    </tr>\n",
       "    <tr>\n",
       "      <td>AMT_REQ_CREDIT_BUREAU_MON</td>\n",
       "      <td>47568</td>\n",
       "      <td>13.4</td>\n",
       "    </tr>\n",
       "    <tr>\n",
       "      <td>AMT_REQ_CREDIT_BUREAU_WEEK</td>\n",
       "      <td>47568</td>\n",
       "      <td>13.4</td>\n",
       "    </tr>\n",
       "    <tr>\n",
       "      <td>AMT_REQ_CREDIT_BUREAU_DAY</td>\n",
       "      <td>47568</td>\n",
       "      <td>13.4</td>\n",
       "    </tr>\n",
       "    <tr>\n",
       "      <td>DEF_60_CNT_SOCIAL_CIRCLE</td>\n",
       "      <td>1050</td>\n",
       "      <td>0.3</td>\n",
       "    </tr>\n",
       "    <tr>\n",
       "      <td>OBS_60_CNT_SOCIAL_CIRCLE</td>\n",
       "      <td>1050</td>\n",
       "      <td>0.3</td>\n",
       "    </tr>\n",
       "    <tr>\n",
       "      <td>DEF_30_CNT_SOCIAL_CIRCLE</td>\n",
       "      <td>1050</td>\n",
       "      <td>0.3</td>\n",
       "    </tr>\n",
       "    <tr>\n",
       "      <td>OBS_30_CNT_SOCIAL_CIRCLE</td>\n",
       "      <td>1050</td>\n",
       "      <td>0.3</td>\n",
       "    </tr>\n",
       "    <tr>\n",
       "      <td>EXT_SOURCE_2</td>\n",
       "      <td>668</td>\n",
       "      <td>0.2</td>\n",
       "    </tr>\n",
       "    <tr>\n",
       "      <td>AMT_GOODS_PRICE</td>\n",
       "      <td>278</td>\n",
       "      <td>0.1</td>\n",
       "    </tr>\n",
       "    <tr>\n",
       "      <td>AMT_ANNUITY</td>\n",
       "      <td>36</td>\n",
       "      <td>0.0</td>\n",
       "    </tr>\n",
       "    <tr>\n",
       "      <td>CNT_FAM_MEMBERS</td>\n",
       "      <td>2</td>\n",
       "      <td>0.0</td>\n",
       "    </tr>\n",
       "    <tr>\n",
       "      <td>AMT_CREDIT_SUM</td>\n",
       "      <td>2</td>\n",
       "      <td>0.0</td>\n",
       "    </tr>\n",
       "    <tr>\n",
       "      <td>DAYS_LAST_PHONE_CHANGE</td>\n",
       "      <td>1</td>\n",
       "      <td>0.0</td>\n",
       "    </tr>\n",
       "  </tbody>\n",
       "</table>\n",
       "</div>"
      ],
      "text/plain": [
       "                            Missing Values  % of Total Values\n",
       "EXT_SOURCE_3                         69633               19.5\n",
       "TARGET                               48744               13.7\n",
       "AMT_REQ_CREDIT_BUREAU_HOUR           47568               13.4\n",
       "AMT_REQ_CREDIT_BUREAU_YEAR           47568               13.4\n",
       "AMT_REQ_CREDIT_BUREAU_QRT            47568               13.4\n",
       "AMT_REQ_CREDIT_BUREAU_MON            47568               13.4\n",
       "AMT_REQ_CREDIT_BUREAU_WEEK           47568               13.4\n",
       "AMT_REQ_CREDIT_BUREAU_DAY            47568               13.4\n",
       "DEF_60_CNT_SOCIAL_CIRCLE              1050                0.3\n",
       "OBS_60_CNT_SOCIAL_CIRCLE              1050                0.3\n",
       "DEF_30_CNT_SOCIAL_CIRCLE              1050                0.3\n",
       "OBS_30_CNT_SOCIAL_CIRCLE              1050                0.3\n",
       "EXT_SOURCE_2                           668                0.2\n",
       "AMT_GOODS_PRICE                        278                0.1\n",
       "AMT_ANNUITY                             36                0.0\n",
       "CNT_FAM_MEMBERS                          2                0.0\n",
       "AMT_CREDIT_SUM                           2                0.0\n",
       "DAYS_LAST_PHONE_CHANGE                   1                0.0"
      ]
     },
     "execution_count": 62,
     "metadata": {},
     "output_type": "execute_result"
    }
   ],
   "source": [
    "missing_values_table(merg_4_dummy)"
   ]
  },
  {
   "cell_type": "code",
   "execution_count": 63,
   "metadata": {
    "colab": {},
    "colab_type": "code",
    "id": "i31GV24mnoh9"
   },
   "outputs": [],
   "source": [
    "merg_4_dummy.loc[merg_4_dummy.EXT_SOURCE_3.isnull(), 'EXT_SOURCE_3']=-1\n",
    "merg_4_dummy.loc[merg_4_dummy.EXT_SOURCE_2.isnull(), 'EXT_SOURCE_2']=-1\n",
    "merg_4_dummy.loc[merg_4_dummy.AMT_REQ_CREDIT_BUREAU_DAY.isnull(), 'AMT_REQ_CREDIT_BUREAU_DAY']=0\n",
    "merg_4_dummy.loc[merg_4_dummy.AMT_REQ_CREDIT_BUREAU_QRT.isnull(), 'AMT_REQ_CREDIT_BUREAU_QRT']=0\n",
    "merg_4_dummy.loc[merg_4_dummy.AMT_REQ_CREDIT_BUREAU_HOUR.isnull(), 'AMT_REQ_CREDIT_BUREAU_HOUR']=0\n",
    "merg_4_dummy.loc[merg_4_dummy.AMT_REQ_CREDIT_BUREAU_YEAR.isnull(), 'AMT_REQ_CREDIT_BUREAU_YEAR']=0\n",
    "merg_4_dummy.loc[merg_4_dummy.AMT_REQ_CREDIT_BUREAU_WEEK.isnull(), 'AMT_REQ_CREDIT_BUREAU_WEEK']=0\n",
    "merg_4_dummy.loc[merg_4_dummy.AMT_REQ_CREDIT_BUREAU_MON.isnull(), 'AMT_REQ_CREDIT_BUREAU_MON']=0\n",
    "\n",
    "merg_4_dummy.loc[merg_4_dummy.DEF_30_CNT_SOCIAL_CIRCLE.isnull(), 'DEF_30_CNT_SOCIAL_CIRCLE']=-1\n",
    "merg_4_dummy.loc[merg_4_dummy.DEF_60_CNT_SOCIAL_CIRCLE.isnull(), 'DEF_60_CNT_SOCIAL_CIRCLE']=-1\n",
    "merg_4_dummy.loc[merg_4_dummy.OBS_30_CNT_SOCIAL_CIRCLE.isnull(), 'OBS_30_CNT_SOCIAL_CIRCLE']=-1\n",
    "merg_4_dummy.loc[merg_4_dummy.OBS_60_CNT_SOCIAL_CIRCLE.isnull(), 'OBS_60_CNT_SOCIAL_CIRCLE']=-1"
   ]
  },
  {
   "cell_type": "code",
   "execution_count": 64,
   "metadata": {
    "colab": {},
    "colab_type": "code",
    "id": "7RwCfHHFnoiE"
   },
   "outputs": [],
   "source": [
    "merg_4_dummy.loc[merg_4_dummy.AMT_GOODS_PRICE.isnull(), 'AMT_GOODS_PRICE']=merg_4_dummy.AMT_GOODS_PRICE.mean()\n",
    "merg_4_dummy.loc[merg_4_dummy.AMT_ANNUITY.isnull(), 'AMT_ANNUITY']=merg_4_dummy.AMT_ANNUITY.median()\n",
    "merg_4_dummy.loc[merg_4_dummy.CNT_FAM_MEMBERS.isnull(), 'CNT_FAM_MEMBERS']=merg_4_dummy.CNT_FAM_MEMBERS.mean()\n",
    "merg_4_dummy.loc[merg_4_dummy.AMT_CREDIT_SUM.isnull(), 'AMT_CREDIT_SUM']=merg_4_dummy.AMT_CREDIT_SUM.mean()\n",
    "merg_4_dummy.loc[merg_4_dummy.DAYS_LAST_PHONE_CHANGE.isnull(), 'DAYS_LAST_PHONE_CHANGE']=merg_4_dummy.DAYS_LAST_PHONE_CHANGE.mean()"
   ]
  },
  {
   "cell_type": "code",
   "execution_count": 65,
   "metadata": {
    "colab": {},
    "colab_type": "code",
    "id": "3bPsNjDMnoiJ"
   },
   "outputs": [
    {
     "data": {
      "text/plain": [
       "(356255, 367)"
      ]
     },
     "execution_count": 65,
     "metadata": {},
     "output_type": "execute_result"
    }
   ],
   "source": [
    "merg_4_dummy.shape"
   ]
  },
  {
   "cell_type": "code",
   "execution_count": 72,
   "metadata": {
    "colab": {},
    "colab_type": "code",
    "id": "Vwhuw9d-noiR"
   },
   "outputs": [],
   "source": [
    "X_train=merg_4_dummy[0:len(train_data)]"
   ]
  },
  {
   "cell_type": "code",
   "execution_count": 69,
   "metadata": {
    "colab": {},
    "colab_type": "code",
    "id": "cyuLryAynoiZ"
   },
   "outputs": [],
   "source": [
    "X_test=merg_4_dummy[len(train_data):]"
   ]
  },
  {
   "cell_type": "code",
   "execution_count": 70,
   "metadata": {
    "colab": {},
    "colab_type": "code",
    "id": "nVHbmq9Jnoif"
   },
   "outputs": [],
   "source": [
    "X_train.to_csv(\"train_clean_data.csv\")\n",
    "X_test.to_csv(\"test_clean_data.csv\")"
   ]
  },
  {
   "cell_type": "code",
   "execution_count": 11,
   "metadata": {},
   "outputs": [],
   "source": [
    "import pandas as pd\n",
    "X_train = pd.read_csv('train_clean_data.csv')\n",
    "X_test = pd.read_csv('test_clean_data.csv')"
   ]
  },
  {
   "cell_type": "code",
   "execution_count": 13,
   "metadata": {
    "colab": {},
    "colab_type": "code",
    "id": "_jSaEX7pnoij"
   },
   "outputs": [],
   "source": [
    "X_pca=X_train.drop(columns=['TARGET'])\n",
    "Y=X_train.TARGET"
   ]
  },
  {
   "cell_type": "code",
   "execution_count": 14,
   "metadata": {
    "colab": {},
    "colab_type": "code",
    "id": "iAvY6Jqunoio"
   },
   "outputs": [],
   "source": [
    "from sklearn.decomposition import PCA"
   ]
  },
  {
   "cell_type": "code",
   "execution_count": 17,
   "metadata": {
    "colab": {},
    "colab_type": "code",
    "id": "_9Butb99noit"
   },
   "outputs": [],
   "source": [
    "import matplotlib as mpl\n",
    "import matplotlib.pyplot as plt\n",
    "import seaborn as sns\n",
    "import numpy as np"
   ]
  },
  {
   "cell_type": "code",
   "execution_count": 18,
   "metadata": {
    "colab": {},
    "colab_type": "code",
    "id": "CKlBxpYZnoiz"
   },
   "outputs": [
    {
     "data": {
      "text/plain": [
       "Text(0, 0.5, 'cumulative explained variance')"
      ]
     },
     "execution_count": 18,
     "metadata": {},
     "output_type": "execute_result"
    },
    {
     "data": {
      "image/png": "[encoded data removed]",
      "text/plain": [
       "<Figure size 432x288 with 1 Axes>"
      ]
     },
     "metadata": {
      "needs_background": "light"
     },
     "output_type": "display_data"
    }
   ],
   "source": [
    "pca = PCA().fit(X_pca) # 'data' can be changed here\n",
    "plt.plot(np.cumsum(pca.explained_variance_ratio_))\n",
    "plt.xlabel('number of components')\n",
    "plt.ylabel('cumulative explained variance')"
   ]
  },
  {
   "cell_type": "code",
   "execution_count": 19,
   "metadata": {
    "colab": {},
    "colab_type": "code",
    "id": "JqMofcWInoi5"
   },
   "outputs": [
    {
     "data": {
      "text/plain": [
       "16"
      ]
     },
     "execution_count": 19,
     "metadata": {},
     "output_type": "execute_result"
    }
   ],
   "source": [
    "pca=PCA(0.99).fit(X_pca)\n",
    "pca.n_components_"
   ]
  },
  {
   "cell_type": "code",
   "execution_count": 20,
   "metadata": {
    "colab": {},
    "colab_type": "code",
    "id": "CnQKrauVnoi_"
   },
   "outputs": [
    {
     "data": {
      "text/html": [
       "<div>\n",
       "<style scoped>\n",
       "    .dataframe tbody tr th:only-of-type {\n",
       "        vertical-align: middle;\n",
       "    }\n",
       "\n",
       "    .dataframe tbody tr th {\n",
       "        vertical-align: top;\n",
       "    }\n",
       "\n",
       "    .dataframe thead th {\n",
       "        text-align: right;\n",
       "    }\n",
       "</style>\n",
       "<table border=\"1\" class=\"dataframe\">\n",
       "  <thead>\n",
       "    <tr style=\"text-align: right;\">\n",
       "      <th></th>\n",
       "      <th>0</th>\n",
       "      <th>1</th>\n",
       "      <th>2</th>\n",
       "      <th>3</th>\n",
       "      <th>4</th>\n",
       "      <th>5</th>\n",
       "      <th>6</th>\n",
       "      <th>7</th>\n",
       "      <th>8</th>\n",
       "      <th>9</th>\n",
       "      <th>10</th>\n",
       "      <th>11</th>\n",
       "      <th>12</th>\n",
       "      <th>13</th>\n",
       "      <th>14</th>\n",
       "      <th>15</th>\n",
       "    </tr>\n",
       "  </thead>\n",
       "  <tbody>\n",
       "    <tr>\n",
       "      <td>0</td>\n",
       "      <td>-2.620753e+05</td>\n",
       "      <td>-164586.977028</td>\n",
       "      <td>-285418.836993</td>\n",
       "      <td>1.005604e+06</td>\n",
       "      <td>-273847.772523</td>\n",
       "      <td>-110048.165127</td>\n",
       "      <td>-240796.124302</td>\n",
       "      <td>-69718.103229</td>\n",
       "      <td>-154573.227874</td>\n",
       "      <td>56867.590473</td>\n",
       "      <td>102682.577541</td>\n",
       "      <td>-67072.615136</td>\n",
       "      <td>54480.827857</td>\n",
       "      <td>-213635.083233</td>\n",
       "      <td>-73027.505053</td>\n",
       "      <td>54776.979060</td>\n",
       "    </tr>\n",
       "    <tr>\n",
       "      <td>1</td>\n",
       "      <td>-1.309913e+05</td>\n",
       "      <td>-124972.689612</td>\n",
       "      <td>875623.046329</td>\n",
       "      <td>9.288917e+05</td>\n",
       "      <td>200686.772907</td>\n",
       "      <td>248375.325943</td>\n",
       "      <td>-847993.579137</td>\n",
       "      <td>-44893.669611</td>\n",
       "      <td>433454.809491</td>\n",
       "      <td>25710.999323</td>\n",
       "      <td>44497.169859</td>\n",
       "      <td>-43558.179714</td>\n",
       "      <td>-89829.296554</td>\n",
       "      <td>-221263.185647</td>\n",
       "      <td>-35912.148113</td>\n",
       "      <td>-180037.463687</td>\n",
       "    </tr>\n",
       "    <tr>\n",
       "      <td>2</td>\n",
       "      <td>1.085711e+05</td>\n",
       "      <td>-159427.120817</td>\n",
       "      <td>-598525.343128</td>\n",
       "      <td>-2.322732e+05</td>\n",
       "      <td>347733.496501</td>\n",
       "      <td>-34421.317498</td>\n",
       "      <td>-534717.484614</td>\n",
       "      <td>-58106.617050</td>\n",
       "      <td>-61358.430468</td>\n",
       "      <td>-43103.016197</td>\n",
       "      <td>-124143.144971</td>\n",
       "      <td>-82415.362888</td>\n",
       "      <td>285133.594723</td>\n",
       "      <td>-202863.031733</td>\n",
       "      <td>-37619.922334</td>\n",
       "      <td>-183765.320417</td>\n",
       "    </tr>\n",
       "    <tr>\n",
       "      <td>3</td>\n",
       "      <td>-2.667808e+05</td>\n",
       "      <td>-149159.272729</td>\n",
       "      <td>-346446.419078</td>\n",
       "      <td>-7.351109e+05</td>\n",
       "      <td>507817.918610</td>\n",
       "      <td>120804.379881</td>\n",
       "      <td>-764887.131948</td>\n",
       "      <td>-46771.884262</td>\n",
       "      <td>274322.793124</td>\n",
       "      <td>11357.696203</td>\n",
       "      <td>-340224.470080</td>\n",
       "      <td>-72031.229198</td>\n",
       "      <td>-122621.908890</td>\n",
       "      <td>-224690.161115</td>\n",
       "      <td>-48564.184090</td>\n",
       "      <td>-79373.369101</td>\n",
       "    </tr>\n",
       "    <tr>\n",
       "      <td>4</td>\n",
       "      <td>2.342890e+06</td>\n",
       "      <td>-148553.652180</td>\n",
       "      <td>-129967.770326</td>\n",
       "      <td>-5.624365e+05</td>\n",
       "      <td>207852.724755</td>\n",
       "      <td>622064.224772</td>\n",
       "      <td>353900.260848</td>\n",
       "      <td>-40183.827887</td>\n",
       "      <td>160930.610295</td>\n",
       "      <td>-11551.652289</td>\n",
       "      <td>-830324.187851</td>\n",
       "      <td>-70150.015329</td>\n",
       "      <td>-170915.741363</td>\n",
       "      <td>-227594.497312</td>\n",
       "      <td>-23260.384906</td>\n",
       "      <td>-137976.559484</td>\n",
       "    </tr>\n",
       "    <tr>\n",
       "      <td>...</td>\n",
       "      <td>...</td>\n",
       "      <td>...</td>\n",
       "      <td>...</td>\n",
       "      <td>...</td>\n",
       "      <td>...</td>\n",
       "      <td>...</td>\n",
       "      <td>...</td>\n",
       "      <td>...</td>\n",
       "      <td>...</td>\n",
       "      <td>...</td>\n",
       "      <td>...</td>\n",
       "      <td>...</td>\n",
       "      <td>...</td>\n",
       "      <td>...</td>\n",
       "      <td>...</td>\n",
       "      <td>...</td>\n",
       "    </tr>\n",
       "    <tr>\n",
       "      <td>307506</td>\n",
       "      <td>6.212577e+05</td>\n",
       "      <td>242194.672449</td>\n",
       "      <td>-514889.938638</td>\n",
       "      <td>-5.842097e+04</td>\n",
       "      <td>656771.707356</td>\n",
       "      <td>471778.471142</td>\n",
       "      <td>-299697.076888</td>\n",
       "      <td>-87618.396579</td>\n",
       "      <td>-173504.278976</td>\n",
       "      <td>25879.990565</td>\n",
       "      <td>138392.711708</td>\n",
       "      <td>-70076.617429</td>\n",
       "      <td>-23934.634270</td>\n",
       "      <td>203845.370550</td>\n",
       "      <td>-7216.070764</td>\n",
       "      <td>-114919.117261</td>\n",
       "    </tr>\n",
       "    <tr>\n",
       "      <td>307507</td>\n",
       "      <td>-3.367296e+05</td>\n",
       "      <td>218927.558520</td>\n",
       "      <td>-545363.471629</td>\n",
       "      <td>8.662454e+05</td>\n",
       "      <td>-854694.027501</td>\n",
       "      <td>239605.770949</td>\n",
       "      <td>346750.474423</td>\n",
       "      <td>-106594.874237</td>\n",
       "      <td>-11802.421347</td>\n",
       "      <td>-66828.717022</td>\n",
       "      <td>-135843.446082</td>\n",
       "      <td>292320.975751</td>\n",
       "      <td>-111084.243055</td>\n",
       "      <td>191239.168056</td>\n",
       "      <td>-70381.442770</td>\n",
       "      <td>75889.461367</td>\n",
       "    </tr>\n",
       "    <tr>\n",
       "      <td>307508</td>\n",
       "      <td>-2.485959e+05</td>\n",
       "      <td>250083.237316</td>\n",
       "      <td>202549.182717</td>\n",
       "      <td>8.502491e+04</td>\n",
       "      <td>262679.098035</td>\n",
       "      <td>-986460.263358</td>\n",
       "      <td>-341480.524400</td>\n",
       "      <td>-114811.516219</td>\n",
       "      <td>280460.266404</td>\n",
       "      <td>-20830.367493</td>\n",
       "      <td>57659.792717</td>\n",
       "      <td>-68159.565115</td>\n",
       "      <td>-72837.485219</td>\n",
       "      <td>195869.427759</td>\n",
       "      <td>-66125.538507</td>\n",
       "      <td>80136.498205</td>\n",
       "    </tr>\n",
       "    <tr>\n",
       "      <td>307509</td>\n",
       "      <td>5.837383e+05</td>\n",
       "      <td>250542.894008</td>\n",
       "      <td>-269196.150854</td>\n",
       "      <td>-5.456544e+05</td>\n",
       "      <td>-337646.124241</td>\n",
       "      <td>-212602.497288</td>\n",
       "      <td>-701587.438045</td>\n",
       "      <td>-97878.618162</td>\n",
       "      <td>-173610.054809</td>\n",
       "      <td>39226.305260</td>\n",
       "      <td>-235328.287562</td>\n",
       "      <td>-70538.365741</td>\n",
       "      <td>-128701.410781</td>\n",
       "      <td>199179.896970</td>\n",
       "      <td>9506.698316</td>\n",
       "      <td>-193048.436458</td>\n",
       "    </tr>\n",
       "    <tr>\n",
       "      <td>307510</td>\n",
       "      <td>-1.782666e+05</td>\n",
       "      <td>259278.288644</td>\n",
       "      <td>202720.167619</td>\n",
       "      <td>-7.920198e+05</td>\n",
       "      <td>396861.624437</td>\n",
       "      <td>-154039.776515</td>\n",
       "      <td>-632103.754520</td>\n",
       "      <td>-85387.035148</td>\n",
       "      <td>277601.069859</td>\n",
       "      <td>-20047.106432</td>\n",
       "      <td>-22153.887011</td>\n",
       "      <td>-61000.100487</td>\n",
       "      <td>-72104.631811</td>\n",
       "      <td>202789.223307</td>\n",
       "      <td>21156.970681</td>\n",
       "      <td>-192846.092231</td>\n",
       "    </tr>\n",
       "  </tbody>\n",
       "</table>\n",
       "<p>307511 rows × 16 columns</p>\n",
       "</div>"
      ],
      "text/plain": [
       "                   0              1              2             3  \\\n",
       "0      -2.620753e+05 -164586.977028 -285418.836993  1.005604e+06   \n",
       "1      -1.309913e+05 -124972.689612  875623.046329  9.288917e+05   \n",
       "2       1.085711e+05 -159427.120817 -598525.343128 -2.322732e+05   \n",
       "3      -2.667808e+05 -149159.272729 -346446.419078 -7.351109e+05   \n",
       "4       2.342890e+06 -148553.652180 -129967.770326 -5.624365e+05   \n",
       "...              ...            ...            ...           ...   \n",
       "307506  6.212577e+05  242194.672449 -514889.938638 -5.842097e+04   \n",
       "307507 -3.367296e+05  218927.558520 -545363.471629  8.662454e+05   \n",
       "307508 -2.485959e+05  250083.237316  202549.182717  8.502491e+04   \n",
       "307509  5.837383e+05  250542.894008 -269196.150854 -5.456544e+05   \n",
       "307510 -1.782666e+05  259278.288644  202720.167619 -7.920198e+05   \n",
       "\n",
       "                    4              5              6              7  \\\n",
       "0      -273847.772523 -110048.165127 -240796.124302  -69718.103229   \n",
       "1       200686.772907  248375.325943 -847993.579137  -44893.669611   \n",
       "2       347733.496501  -34421.317498 -534717.484614  -58106.617050   \n",
       "3       507817.918610  120804.379881 -764887.131948  -46771.884262   \n",
       "4       207852.724755  622064.224772  353900.260848  -40183.827887   \n",
       "...               ...            ...            ...            ...   \n",
       "307506  656771.707356  471778.471142 -299697.076888  -87618.396579   \n",
       "307507 -854694.027501  239605.770949  346750.474423 -106594.874237   \n",
       "307508  262679.098035 -986460.263358 -341480.524400 -114811.516219   \n",
       "307509 -337646.124241 -212602.497288 -701587.438045  -97878.618162   \n",
       "307510  396861.624437 -154039.776515 -632103.754520  -85387.035148   \n",
       "\n",
       "                    8             9             10             11  \\\n",
       "0      -154573.227874  56867.590473  102682.577541  -67072.615136   \n",
       "1       433454.809491  25710.999323   44497.169859  -43558.179714   \n",
       "2       -61358.430468 -43103.016197 -124143.144971  -82415.362888   \n",
       "3       274322.793124  11357.696203 -340224.470080  -72031.229198   \n",
       "4       160930.610295 -11551.652289 -830324.187851  -70150.015329   \n",
       "...               ...           ...            ...            ...   \n",
       "307506 -173504.278976  25879.990565  138392.711708  -70076.617429   \n",
       "307507  -11802.421347 -66828.717022 -135843.446082  292320.975751   \n",
       "307508  280460.266404 -20830.367493   57659.792717  -68159.565115   \n",
       "307509 -173610.054809  39226.305260 -235328.287562  -70538.365741   \n",
       "307510  277601.069859 -20047.106432  -22153.887011  -61000.100487   \n",
       "\n",
       "                   12             13            14             15  \n",
       "0        54480.827857 -213635.083233 -73027.505053   54776.979060  \n",
       "1       -89829.296554 -221263.185647 -35912.148113 -180037.463687  \n",
       "2       285133.594723 -202863.031733 -37619.922334 -183765.320417  \n",
       "3      -122621.908890 -224690.161115 -48564.184090  -79373.369101  \n",
       "4      -170915.741363 -227594.497312 -23260.384906 -137976.559484  \n",
       "...               ...            ...           ...            ...  \n",
       "307506  -23934.634270  203845.370550  -7216.070764 -114919.117261  \n",
       "307507 -111084.243055  191239.168056 -70381.442770   75889.461367  \n",
       "307508  -72837.485219  195869.427759 -66125.538507   80136.498205  \n",
       "307509 -128701.410781  199179.896970   9506.698316 -193048.436458  \n",
       "307510  -72104.631811  202789.223307  21156.970681 -192846.092231  \n",
       "\n",
       "[307511 rows x 16 columns]"
      ]
     },
     "execution_count": 20,
     "metadata": {},
     "output_type": "execute_result"
    }
   ],
   "source": [
    "train_pca = pca.transform(X_pca)\n",
    "train_pca =pd.DataFrame(train_pca)\n",
    "train_pca"
   ]
  },
  {
   "cell_type": "code",
   "execution_count": 81,
   "metadata": {
    "colab": {},
    "colab_type": "code",
    "id": "bZmYs1kjnojC"
   },
   "outputs": [],
   "source": [
    "X_test=X_test.drop(columns=['TARGET'])"
   ]
  },
  {
   "cell_type": "code",
   "execution_count": 82,
   "metadata": {
    "colab": {},
    "colab_type": "code",
    "id": "5TzWAfNcnojF"
   },
   "outputs": [],
   "source": [
    "test_pca = pca.transform(X_test)\n",
    "test_pca =pd.DataFrame(test_pca)"
   ]
  },
  {
   "cell_type": "code",
   "execution_count": 8,
   "metadata": {
    "colab": {},
    "colab_type": "code",
    "id": "-5AuZ5D5nojK"
   },
   "outputs": [
    {
     "ename": "NameError",
     "evalue": "name 'train_pca' is not defined",
     "output_type": "error",
     "traceback": [
      "\u001b[1;31m---------------------------------------------------------------------------\u001b[0m",
      "\u001b[1;31mNameError\u001b[0m                                 Traceback (most recent call last)",
      "\u001b[1;32m<ipython-input-8-98f76cb92526>\u001b[0m in \u001b[0;36m<module>\u001b[1;34m\u001b[0m\n\u001b[1;32m----> 1\u001b[1;33m \u001b[0mtrain_pca\u001b[0m\u001b[1;33m.\u001b[0m\u001b[0mshape\u001b[0m\u001b[1;33m\u001b[0m\u001b[1;33m\u001b[0m\u001b[0m\n\u001b[0m",
      "\u001b[1;31mNameError\u001b[0m: name 'train_pca' is not defined"
     ]
    }
   ],
   "source": [
    "train_pca.shape"
   ]
  },
  {
   "cell_type": "code",
   "execution_count": 9,
   "metadata": {
    "colab": {},
    "colab_type": "code",
    "id": "ybVs7_hgnojP"
   },
   "outputs": [
    {
     "ename": "NameError",
     "evalue": "name 'train_pca' is not defined",
     "output_type": "error",
     "traceback": [
      "\u001b[1;31m---------------------------------------------------------------------------\u001b[0m",
      "\u001b[1;31mNameError\u001b[0m                                 Traceback (most recent call last)",
      "\u001b[1;32m<ipython-input-9-7a1d3e31d784>\u001b[0m in \u001b[0;36m<module>\u001b[1;34m\u001b[0m\n\u001b[1;32m----> 1\u001b[1;33m \u001b[0mtrain_pca\u001b[0m\u001b[1;33m.\u001b[0m\u001b[0mto_csv\u001b[0m\u001b[1;33m(\u001b[0m\u001b[1;34m\"train_transfer_data.csv\"\u001b[0m\u001b[1;33m)\u001b[0m\u001b[1;33m\u001b[0m\u001b[1;33m\u001b[0m\u001b[0m\n\u001b[0m\u001b[0;32m      2\u001b[0m \u001b[0mtest_pca\u001b[0m\u001b[1;33m.\u001b[0m\u001b[0mto_csv\u001b[0m\u001b[1;33m(\u001b[0m\u001b[1;34m\"test_transfer_data.csv\"\u001b[0m\u001b[1;33m)\u001b[0m\u001b[1;33m\u001b[0m\u001b[1;33m\u001b[0m\u001b[0m\n",
      "\u001b[1;31mNameError\u001b[0m: name 'train_pca' is not defined"
     ]
    }
   ],
   "source": [
    "train_pca.to_csv(\"train_transfer_data.csv\")\n",
    "test_pca.to_csv(\"test_transfer_data.csv\")"
   ]
  },
  {
   "cell_type": "code",
   "execution_count": null,
   "metadata": {
    "colab": {},
    "colab_type": "code",
    "id": "c-VJIg3LnojT"
   },
   "outputs": [],
   "source": []
  },
  {
   "cell_type": "code",
   "execution_count": null,
   "metadata": {
    "colab": {},
    "colab_type": "code",
    "id": "Nvk2d4aFnojW"
   },
   "outputs": [],
   "source": []
  },
  {
   "cell_type": "code",
   "execution_count": null,
   "metadata": {
    "colab": {},
    "colab_type": "code",
    "id": "n2S5PbRjnojf"
   },
   "outputs": [],
   "source": []
  },
  {
   "cell_type": "code",
   "execution_count": null,
   "metadata": {
    "colab": {},
    "colab_type": "code",
    "id": "Gt6iVMTPnoji"
   },
   "outputs": [],
   "source": []
  },
  {
   "cell_type": "code",
   "execution_count": 1,
   "metadata": {
    "colab": {},
    "colab_type": "code",
    "id": "kpyK5pXVnojp"
   },
   "outputs": [
    {
     "name": "stdout",
     "output_type": "stream",
     "text": [
      "Collecting package metadata (current_repodata.json): ...working... done\n",
      "Solving environment: ...working... done\n",
      "\n",
      "## Package Plan ##\n",
      "\n",
      "  environment location: C:\\Users\\FeimanLi\\Applications\n",
      "\n",
      "  added / updated specs:\n",
      "    - keras\n",
      "\n",
      "\n",
      "The following packages will be downloaded:\n",
      "\n",
      "    package                    |            build\n",
      "    ---------------------------|-----------------\n",
      "    _tflow_select-2.3.0        |              mkl           3 KB\n",
      "    absl-py-0.9.0              |           py37_0         168 KB\n",
      "    astor-0.8.0                |           py37_0          47 KB\n",
      "    blinker-1.4                |           py37_0          22 KB\n",
      "    cachetools-3.1.1           |             py_0          14 KB\n",
      "    conda-4.8.2                |           py37_0         2.8 MB\n",
      "    gast-0.2.2                 |           py37_0         155 KB\n",
      "    google-auth-1.11.2         |             py_0          51 KB\n",
      "    google-auth-oauthlib-0.4.1 |             py_2          20 KB\n",
      "    google-pasta-0.1.8         |             py_0          43 KB\n",
      "    grpcio-1.27.2              |   py37h351948d_0         1.2 MB\n",
      "    keras-2.3.1                |                0           6 KB\n",
      "    keras-applications-1.0.8   |             py_0          33 KB\n",
      "    keras-base-2.3.1           |           py37_0         585 KB\n",
      "    keras-preprocessing-1.1.0  |             py_1          36 KB\n",
      "    libmklml-2019.0.5          |                0        17.4 MB\n",
      "    libprotobuf-3.11.4         |       h7bd577a_0         1.8 MB\n",
      "    markdown-3.1.1             |           py37_0         132 KB\n",
      "    oauthlib-3.1.0             |             py_0          88 KB\n",
      "    opt_einsum-3.1.0           |             py_0          54 KB\n",
      "    protobuf-3.11.4            |   py37h33f27b4_0         542 KB\n",
      "    pyasn1-0.4.8               |             py_0          58 KB\n",
      "    pyasn1-modules-0.2.7       |             py_0          63 KB\n",
      "    pyjwt-1.7.1                |           py37_0          49 KB\n",
      "    requests-oauthlib-1.3.0    |             py_0          22 KB\n",
      "    rsa-4.0                    |             py_0          29 KB\n",
      "    tensorboard-2.1.0          |            py3_0         3.3 MB\n",
      "    tensorflow-2.1.0           |mkl_py37ha977152_0           4 KB\n",
      "    tensorflow-base-2.1.0      |mkl_py37h230818c_0        38.4 MB\n",
      "    tensorflow-estimator-2.1.0 |     pyhd54b08b_0         251 KB\n",
      "    termcolor-1.1.0            |           py37_1           8 KB\n",
      "    ------------------------------------------------------------\n",
      "                                           Total:        67.4 MB\n",
      "\n",
      "The following NEW packages will be INSTALLED:\n",
      "\n",
      "  _tflow_select      pkgs/main/win-64::_tflow_select-2.3.0-mkl\n",
      "  absl-py            pkgs/main/win-64::absl-py-0.9.0-py37_0\n",
      "  astor              pkgs/main/win-64::astor-0.8.0-py37_0\n",
      "  blinker            pkgs/main/win-64::blinker-1.4-py37_0\n",
      "  cachetools         pkgs/main/noarch::cachetools-3.1.1-py_0\n",
      "  gast               pkgs/main/win-64::gast-0.2.2-py37_0\n",
      "  google-auth        pkgs/main/noarch::google-auth-1.11.2-py_0\n",
      "  google-auth-oauth~ pkgs/main/noarch::google-auth-oauthlib-0.4.1-py_2\n",
      "  google-pasta       pkgs/main/noarch::google-pasta-0.1.8-py_0\n",
      "  grpcio             pkgs/main/win-64::grpcio-1.27.2-py37h351948d_0\n",
      "  keras              pkgs/main/win-64::keras-2.3.1-0\n",
      "  keras-applications pkgs/main/noarch::keras-applications-1.0.8-py_0\n",
      "  keras-base         pkgs/main/win-64::keras-base-2.3.1-py37_0\n",
      "  keras-preprocessi~ pkgs/main/noarch::keras-preprocessing-1.1.0-py_1\n",
      "  libmklml           pkgs/main/win-64::libmklml-2019.0.5-0\n",
      "  libprotobuf        pkgs/main/win-64::libprotobuf-3.11.4-h7bd577a_0\n",
      "  markdown           pkgs/main/win-64::markdown-3.1.1-py37_0\n",
      "  oauthlib           pkgs/main/noarch::oauthlib-3.1.0-py_0\n",
      "  opt_einsum         pkgs/main/noarch::opt_einsum-3.1.0-py_0\n",
      "  protobuf           pkgs/main/win-64::protobuf-3.11.4-py37h33f27b4_0\n",
      "  pyasn1             pkgs/main/noarch::pyasn1-0.4.8-py_0\n",
      "  pyasn1-modules     pkgs/main/noarch::pyasn1-modules-0.2.7-py_0\n",
      "  pyjwt              pkgs/main/win-64::pyjwt-1.7.1-py37_0\n",
      "  requests-oauthlib  pkgs/main/noarch::requests-oauthlib-1.3.0-py_0\n",
      "  rsa                pkgs/main/noarch::rsa-4.0-py_0\n",
      "  tensorboard        pkgs/main/noarch::tensorboard-2.1.0-py3_0\n",
      "  tensorflow         pkgs/main/win-64::tensorflow-2.1.0-mkl_py37ha977152_0\n",
      "  tensorflow-base    pkgs/main/win-64::tensorflow-base-2.1.0-mkl_py37h230818c_0\n",
      "  tensorflow-estima~ pkgs/main/noarch::tensorflow-estimator-2.1.0-pyhd54b08b_0\n",
      "  termcolor          pkgs/main/win-64::termcolor-1.1.0-py37_1\n",
      "\n",
      "The following packages will be UPDATED:\n",
      "\n",
      "  conda                                       4.7.12-py37_0 --> 4.8.2-py37_0\n",
      "\n",
      "\n",
      "\n",
      "Downloading and Extracting Packages\n",
      "\n",
      "google-auth-oauthlib | 20 KB     |            |   0% \n",
      "google-auth-oauthlib | 20 KB     | ########1  |  81% \n",
      "google-auth-oauthlib | 20 KB     | ########## | 100% \n",
      "\n",
      "astor-0.8.0          | 47 KB     |            |   0% \n",
      "astor-0.8.0          | 47 KB     | ########## | 100% \n",
      "\n",
      "requests-oauthlib-1. | 22 KB     |            |   0% \n",
      "requests-oauthlib-1. | 22 KB     | ########## | 100% \n",
      "\n",
      "google-auth-1.11.2   | 51 KB     |            |   0% \n",
      "google-auth-1.11.2   | 51 KB     | ########## | 100% \n",
      "\n",
      "tensorflow-base-2.1. | 38.4 MB   |            |   0% \n",
      "tensorflow-base-2.1. | 38.4 MB   |            |   0% \n",
      "tensorflow-base-2.1. | 38.4 MB   | 1          |   1% \n",
      "tensorflow-base-2.1. | 38.4 MB   | 3          |   3% \n",
      "tensorflow-base-2.1. | 38.4 MB   | 4          |   4% \n",
      "tensorflow-base-2.1. | 38.4 MB   | 6          |   7% \n",
      "tensorflow-base-2.1. | 38.4 MB   | 8          |   8% \n",
      "tensorflow-base-2.1. | 38.4 MB   | 9          |  10% \n",
      "tensorflow-base-2.1. | 38.4 MB   | #1         |  12% \n",
      "tensorflow-base-2.1. | 38.4 MB   | #3         |  13% \n",
      "tensorflow-base-2.1. | 38.4 MB   | #4         |  15% \n",
      "tensorflow-base-2.1. | 38.4 MB   | #6         |  17% \n",
      "tensorflow-base-2.1. | 38.4 MB   | #8         |  18% \n",
      "tensorflow-base-2.1. | 38.4 MB   | #9         |  20% \n",
      "tensorflow-base-2.1. | 38.4 MB   | ##1        |  21% \n",
      "tensorflow-base-2.1. | 38.4 MB   | ##2        |  23% \n",
      "tensorflow-base-2.1. | 38.4 MB   | ##4        |  25% \n",
      "tensorflow-base-2.1. | 38.4 MB   | ##6        |  26% \n",
      "tensorflow-base-2.1. | 38.4 MB   | ##7        |  28% \n",
      "tensorflow-base-2.1. | 38.4 MB   | ##9        |  29% \n",
      "tensorflow-base-2.1. | 38.4 MB   | ###        |  31% \n",
      "tensorflow-base-2.1. | 38.4 MB   | ###2       |  33% \n",
      "tensorflow-base-2.1. | 38.4 MB   | ###4       |  34% \n",
      "tensorflow-base-2.1. | 38.4 MB   | ###6       |  36% \n",
      "tensorflow-base-2.1. | 38.4 MB   | ###7       |  38% \n",
      "tensorflow-base-2.1. | 38.4 MB   | ###9       |  40% \n",
      "tensorflow-base-2.1. | 38.4 MB   | ####1      |  41% \n",
      "tensorflow-base-2.1. | 38.4 MB   | ####3      |  43% \n",
      "tensorflow-base-2.1. | 38.4 MB   | ####4      |  45% \n",
      "tensorflow-base-2.1. | 38.4 MB   | ####6      |  46% \n",
      "tensorflow-base-2.1. | 38.4 MB   | ####7      |  48% \n",
      "tensorflow-base-2.1. | 38.4 MB   | ####9      |  49% \n",
      "tensorflow-base-2.1. | 38.4 MB   | #####1     |  51% \n",
      "tensorflow-base-2.1. | 38.4 MB   | #####2     |  53% \n",
      "tensorflow-base-2.1. | 38.4 MB   | #####4     |  54% \n",
      "tensorflow-base-2.1. | 38.4 MB   | #####5     |  56% \n",
      "tensorflow-base-2.1. | 38.4 MB   | #####7     |  57% \n",
      "tensorflow-base-2.1. | 38.4 MB   | #####8     |  59% \n",
      "tensorflow-base-2.1. | 38.4 MB   | #####9     |  60% \n",
      "tensorflow-base-2.1. | 38.4 MB   | ######1    |  61% \n",
      "tensorflow-base-2.1. | 38.4 MB   | ######4    |  64% \n",
      "tensorflow-base-2.1. | 38.4 MB   | ######5    |  66% \n",
      "tensorflow-base-2.1. | 38.4 MB   | ######7    |  67% \n",
      "tensorflow-base-2.1. | 38.4 MB   | ######8    |  69% \n",
      "tensorflow-base-2.1. | 38.4 MB   | #######    |  71% \n",
      "tensorflow-base-2.1. | 38.4 MB   | #######2   |  72% \n",
      "tensorflow-base-2.1. | 38.4 MB   | #######3   |  74% \n",
      "tensorflow-base-2.1. | 38.4 MB   | #######5   |  75% \n",
      "tensorflow-base-2.1. | 38.4 MB   | #######6   |  77% \n",
      "tensorflow-base-2.1. | 38.4 MB   | #######8   |  78% \n",
      "tensorflow-base-2.1. | 38.4 MB   | ########   |  80% \n",
      "tensorflow-base-2.1. | 38.4 MB   | ########2  |  82% \n",
      "tensorflow-base-2.1. | 38.4 MB   | ########3  |  84% \n",
      "tensorflow-base-2.1. | 38.4 MB   | ########5  |  85% \n",
      "tensorflow-base-2.1. | 38.4 MB   | ########6  |  87% \n",
      "tensorflow-base-2.1. | 38.4 MB   | ########9  |  89% \n",
      "tensorflow-base-2.1. | 38.4 MB   | #########1 |  91% \n",
      "tensorflow-base-2.1. | 38.4 MB   | #########2 |  93% \n",
      "tensorflow-base-2.1. | 38.4 MB   | #########5 |  95% \n",
      "tensorflow-base-2.1. | 38.4 MB   | #########7 |  97% \n",
      "tensorflow-base-2.1. | 38.4 MB   | #########8 |  99% \n",
      "tensorflow-base-2.1. | 38.4 MB   | ########## | 100% \n",
      "\n",
      "markdown-3.1.1       | 132 KB    |            |   0% \n",
      "markdown-3.1.1       | 132 KB    | ########## | 100% \n",
      "\n",
      "grpcio-1.27.2        | 1.2 MB    |            |   0% \n",
      "grpcio-1.27.2        | 1.2 MB    | ##         |  20% \n",
      "grpcio-1.27.2        | 1.2 MB    | ########## | 100% \n",
      "\n",
      "google-pasta-0.1.8   | 43 KB     |            |   0% \n",
      "google-pasta-0.1.8   | 43 KB     | ########## | 100% \n",
      "\n",
      "gast-0.2.2           | 155 KB    |            |   0% \n",
      "gast-0.2.2           | 155 KB    | ########## | 100% \n",
      "\n",
      "cachetools-3.1.1     | 14 KB     |            |   0% \n",
      "cachetools-3.1.1     | 14 KB     | ########## | 100% \n",
      "\n",
      "tensorflow-2.1.0     | 4 KB      |            |   0% \n",
      "tensorflow-2.1.0     | 4 KB      | ########## | 100% \n",
      "\n",
      "keras-base-2.3.1     | 585 KB    |            |   0% \n",
      "keras-base-2.3.1     | 585 KB    | #3         |  14% \n",
      "keras-base-2.3.1     | 585 KB    | #######3   |  74% \n",
      "keras-base-2.3.1     | 585 KB    | ########## | 100% \n",
      "\n",
      "keras-2.3.1          | 6 KB      |            |   0% \n",
      "keras-2.3.1          | 6 KB      | ########## | 100% \n",
      "\n",
      "keras-preprocessing- | 36 KB     |            |   0% \n",
      "keras-preprocessing- | 36 KB     | ########## | 100% \n",
      "\n",
      "libprotobuf-3.11.4   | 1.8 MB    |            |   0% \n",
      "libprotobuf-3.11.4   | 1.8 MB    | #4         |  14% \n",
      "libprotobuf-3.11.4   | 1.8 MB    | ###7       |  38% \n",
      "libprotobuf-3.11.4   | 1.8 MB    | ######1    |  61% \n",
      "libprotobuf-3.11.4   | 1.8 MB    | ########5  |  85% \n",
      "libprotobuf-3.11.4   | 1.8 MB    | ########## | 100% \n",
      "\n",
      "opt_einsum-3.1.0     | 54 KB     |            |   0% \n",
      "opt_einsum-3.1.0     | 54 KB     | ########## | 100% \n",
      "\n",
      "pyasn1-0.4.8         | 58 KB     |            |   0% \n",
      "pyasn1-0.4.8         | 58 KB     | ########## | 100% \n",
      "\n",
      "keras-applications-1 | 33 KB     |            |   0% \n",
      "keras-applications-1 | 33 KB     | ########## | 100% \n",
      "\n",
      "conda-4.8.2          | 2.8 MB    |            |   0% \n",
      "conda-4.8.2          | 2.8 MB    | 4          |   4% \n",
      "conda-4.8.2          | 2.8 MB    | ##4        |  24% \n",
      "conda-4.8.2          | 2.8 MB    | ####5      |  46% \n",
      "conda-4.8.2          | 2.8 MB    | ######5    |  65% \n",
      "conda-4.8.2          | 2.8 MB    | ########3  |  83% \n",
      "conda-4.8.2          | 2.8 MB    | #########9 |  99% \n",
      "conda-4.8.2          | 2.8 MB    | ########## | 100% \n",
      "\n",
      "absl-py-0.9.0        | 168 KB    |            |   0% \n",
      "absl-py-0.9.0        | 168 KB    | ########## | 100% \n",
      "\n",
      "pyjwt-1.7.1          | 49 KB     |            |   0% \n",
      "pyjwt-1.7.1          | 49 KB     | ########## | 100% \n",
      "\n",
      "oauthlib-3.1.0       | 88 KB     |            |   0% \n",
      "oauthlib-3.1.0       | 88 KB     | ########## | 100% \n",
      "\n",
      "libmklml-2019.0.5    | 17.4 MB   |            |   0% \n",
      "libmklml-2019.0.5    | 17.4 MB   |            |   1% \n",
      "libmklml-2019.0.5    | 17.4 MB   | 4          |   4% \n",
      "libmklml-2019.0.5    | 17.4 MB   | 7          |   7% \n",
      "libmklml-2019.0.5    | 17.4 MB   | #          |  11% \n",
      "libmklml-2019.0.5    | 17.4 MB   | #3         |  14% \n",
      "libmklml-2019.0.5    | 17.4 MB   | #6         |  17% \n",
      "libmklml-2019.0.5    | 17.4 MB   | #9         |  20% \n",
      "libmklml-2019.0.5    | 17.4 MB   | ##2        |  23% \n",
      "libmklml-2019.0.5    | 17.4 MB   | ##5        |  26% \n",
      "libmklml-2019.0.5    | 17.4 MB   | ##8        |  29% \n",
      "libmklml-2019.0.5    | 17.4 MB   | ###1       |  32% \n",
      "libmklml-2019.0.5    | 17.4 MB   | ###5       |  36% \n",
      "libmklml-2019.0.5    | 17.4 MB   | ###8       |  39% \n",
      "libmklml-2019.0.5    | 17.4 MB   | ####2      |  42% \n",
      "libmklml-2019.0.5    | 17.4 MB   | ####5      |  46% \n",
      "libmklml-2019.0.5    | 17.4 MB   | #####      |  50% \n",
      "libmklml-2019.0.5    | 17.4 MB   | #####3     |  54% \n",
      "libmklml-2019.0.5    | 17.4 MB   | #####7     |  57% \n",
      "libmklml-2019.0.5    | 17.4 MB   | ######     |  61% \n",
      "libmklml-2019.0.5    | 17.4 MB   | ######4    |  64% \n",
      "libmklml-2019.0.5    | 17.4 MB   | ######9    |  70% \n",
      "libmklml-2019.0.5    | 17.4 MB   | #######3   |  73% \n",
      "libmklml-2019.0.5    | 17.4 MB   | #######6   |  77% \n",
      "libmklml-2019.0.5    | 17.4 MB   | ########   |  80% \n",
      "libmklml-2019.0.5    | 17.4 MB   | ########4  |  85% \n",
      "libmklml-2019.0.5    | 17.4 MB   | ########8  |  88% \n",
      "libmklml-2019.0.5    | 17.4 MB   | #########1 |  92% \n",
      "libmklml-2019.0.5    | 17.4 MB   | #########6 |  96% \n",
      "libmklml-2019.0.5    | 17.4 MB   | #########9 | 100% \n",
      "libmklml-2019.0.5    | 17.4 MB   | ########## | 100% \n",
      "\n",
      "tensorboard-2.1.0    | 3.3 MB    |            |   0% \n",
      "tensorboard-2.1.0    | 3.3 MB    | 8          |   9% \n",
      "tensorboard-2.1.0    | 3.3 MB    | #7         |  18% \n",
      "tensorboard-2.1.0    | 3.3 MB    | ###        |  31% \n",
      "tensorboard-2.1.0    | 3.3 MB    | ####       |  41% \n",
      "tensorboard-2.1.0    | 3.3 MB    | #####4     |  55% \n",
      "tensorboard-2.1.0    | 3.3 MB    | #######7   |  78% \n",
      "tensorboard-2.1.0    | 3.3 MB    | ########## | 100% \n",
      "\n",
      "_tflow_select-2.3.0  | 3 KB      |            |   0% \n",
      "_tflow_select-2.3.0  | 3 KB      | ########## | 100% \n",
      "\n",
      "blinker-1.4          | 22 KB     |            |   0% \n",
      "blinker-1.4          | 22 KB     | ########## | 100% \n",
      "\n",
      "protobuf-3.11.4      | 542 KB    |            |   0% \n",
      "protobuf-3.11.4      | 542 KB    | ##9        |  30% \n",
      "protobuf-3.11.4      | 542 KB    | ########## | 100% \n",
      "\n",
      "rsa-4.0              | 29 KB     |            |   0% \n",
      "rsa-4.0              | 29 KB     | ########## | 100% \n",
      "\n",
      "tensorflow-estimator | 251 KB    |            |   0% \n",
      "tensorflow-estimator | 251 KB    | ########## | 100% \n",
      "\n",
      "termcolor-1.1.0      | 8 KB      |            |   0% \n",
      "termcolor-1.1.0      | 8 KB      | ########## | 100% \n",
      "\n",
      "pyasn1-modules-0.2.7 | 63 KB     |            |   0% \n",
      "pyasn1-modules-0.2.7 | 63 KB     | ########## | 100% \n",
      "Preparing transaction: ...working... done\n",
      "Verifying transaction: ...working... done\n",
      "Executing transaction: ...working... done\n",
      "\n",
      "Note: you may need to restart the kernel to use updated packages.\n"
     ]
    }
   ],
   "source": [
    "conda install keras"
   ]
  },
  {
   "cell_type": "code",
   "execution_count": 3,
   "metadata": {
    "colab": {},
    "colab_type": "code",
    "id": "tjFd-Cbvnojt"
   },
   "outputs": [],
   "source": [
    "from keras.models import Sequential\n",
    "from keras.layers import Dense\n",
    "from keras.utils import np_utils\n",
    "from keras.optimizers import RMSprop"
   ]
  },
  {
   "cell_type": "code",
   "execution_count": 4,
   "metadata": {
    "colab": {},
    "colab_type": "code",
    "id": "nOLD9sJbnojz"
   },
   "outputs": [],
   "source": [
    "batch_size = 128\n",
    "num_classes = 2\n",
    "epochs = 20"
   ]
  },
  {
   "cell_type": "code",
   "execution_count": 5,
   "metadata": {
    "colab": {},
    "colab_type": "code",
    "id": "7Pz_DaSbnoj3"
   },
   "outputs": [],
   "source": [
    "model = Sequential()\n",
    "model.add(Dense(10, activation='relu', input_shape=(10,)))\n",
    "model.add(Dense(num_classes, activation='softmax'))"
   ]
  },
  {
   "cell_type": "code",
   "execution_count": 6,
   "metadata": {
    "colab": {},
    "colab_type": "code",
    "id": "oaknk7YDnoj7"
   },
   "outputs": [
    {
     "name": "stdout",
     "output_type": "stream",
     "text": [
      "Model: \"sequential_1\"\n",
      "_________________________________________________________________\n",
      "Layer (type)                 Output Shape              Param #   \n",
      "=================================================================\n",
      "dense_1 (Dense)              (None, 10)                110       \n",
      "_________________________________________________________________\n",
      "dense_2 (Dense)              (None, 2)                 22        \n",
      "=================================================================\n",
      "Total params: 132\n",
      "Trainable params: 132\n",
      "Non-trainable params: 0\n",
      "_________________________________________________________________\n"
     ]
    }
   ],
   "source": [
    "model.summary()"
   ]
  },
  {
   "cell_type": "code",
   "execution_count": 7,
   "metadata": {
    "colab": {},
    "colab_type": "code",
    "id": "CdFMefDBnokD"
   },
   "outputs": [
    {
     "ename": "NameError",
     "evalue": "name 'train_pca' is not defined",
     "output_type": "error",
     "traceback": [
      "\u001b[1;31m---------------------------------------------------------------------------\u001b[0m",
      "\u001b[1;31mNameError\u001b[0m                                 Traceback (most recent call last)",
      "\u001b[1;32m<ipython-input-7-c3dd18d54a8a>\u001b[0m in \u001b[0;36m<module>\u001b[1;34m\u001b[0m\n\u001b[0;32m      3\u001b[0m               metrics=['accuracy'])\n\u001b[0;32m      4\u001b[0m \u001b[1;33m\u001b[0m\u001b[0m\n\u001b[1;32m----> 5\u001b[1;33m history = model.fit(train_pca, Y,batch_size=batch_size,epochs=epochs,verbose=1,\n\u001b[0m\u001b[0;32m      6\u001b[0m                     validation_data=(test_pca, y_test))\n",
      "\u001b[1;31mNameError\u001b[0m: name 'train_pca' is not defined"
     ]
    }
   ],
   "source": [
    "model.compile(loss='categorical_crossentropy',\n",
    "              optimizer=RMSprop(),\n",
    "              metrics=['accuracy'])\n",
    "\n",
    "history = model.fit(train_pca, Y,batch_size=batch_size,epochs=epochs,verbose=1,\n",
    "                    validation_data=(test_pca, y_test))"
   ]
  },
  {
   "cell_type": "code",
   "execution_count": null,
   "metadata": {},
   "outputs": [],
   "source": []
  }
 ],
 "metadata": {
  "colab": {
   "name": "data processing.ipynb",
   "provenance": []
  },
  "kernelspec": {
   "display_name": "Python 3",
   "language": "python",
   "name": "python3"
  },
  "language_info": {
   "codemirror_mode": {
    "name": "ipython",
    "version": 3
   },
   "file_extension": ".py",
   "mimetype": "text/x-python",
   "name": "python",
   "nbconvert_exporter": "python",
   "pygments_lexer": "ipython3",
   "version": "3.7.4"
  }
 },
 "nbformat": 4,
 "nbformat_minor": 1
}
